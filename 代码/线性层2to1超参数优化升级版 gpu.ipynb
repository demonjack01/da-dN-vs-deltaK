{
 "cells": [
  {
   "cell_type": "code",
   "execution_count": 105,
   "metadata": {},
   "outputs": [],
   "source": [
    "import numpy as np\n",
    "import pandas as pd\n",
    "import torch\n",
    "import torch.nn as nn\n",
    "import torch.optim as optim \n",
    "from sklearn.model_selection import train_test_split\n",
    "from sklearn import preprocessing\n",
    "import torch.utils.data as Data\n",
    "import optuna\n",
    "import optuna.trial\n",
    "import os \n",
    "device=torch.device(\"cuda:0\"if torch.cuda.is_available() else \"cpu\")"
   ]
  },
  {
   "cell_type": "code",
   "execution_count": 106,
   "metadata": {},
   "outputs": [
    {
     "data": {
      "text/html": [
       "<div>\n",
       "<style scoped>\n",
       "    .dataframe tbody tr th:only-of-type {\n",
       "        vertical-align: middle;\n",
       "    }\n",
       "\n",
       "    .dataframe tbody tr th {\n",
       "        vertical-align: top;\n",
       "    }\n",
       "\n",
       "    .dataframe thead th {\n",
       "        text-align: right;\n",
       "    }\n",
       "</style>\n",
       "<table border=\"1\" class=\"dataframe\">\n",
       "  <thead>\n",
       "    <tr style=\"text-align: right;\">\n",
       "      <th></th>\n",
       "      <th>x</th>\n",
       "      <th>y</th>\n",
       "      <th>R</th>\n",
       "      <th>x1</th>\n",
       "    </tr>\n",
       "  </thead>\n",
       "  <tbody>\n",
       "    <tr>\n",
       "      <th>0</th>\n",
       "      <td>0.395628</td>\n",
       "      <td>-12.389735</td>\n",
       "      <td>0.5</td>\n",
       "      <td>0.622906</td>\n",
       "    </tr>\n",
       "    <tr>\n",
       "      <th>1</th>\n",
       "      <td>0.409120</td>\n",
       "      <td>-10.996050</td>\n",
       "      <td>0.5</td>\n",
       "      <td>0.636398</td>\n",
       "    </tr>\n",
       "    <tr>\n",
       "      <th>2</th>\n",
       "      <td>0.411898</td>\n",
       "      <td>-10.514862</td>\n",
       "      <td>0.5</td>\n",
       "      <td>0.639175</td>\n",
       "    </tr>\n",
       "    <tr>\n",
       "      <th>3</th>\n",
       "      <td>0.441659</td>\n",
       "      <td>-10.384296</td>\n",
       "      <td>0.5</td>\n",
       "      <td>0.668937</td>\n",
       "    </tr>\n",
       "    <tr>\n",
       "      <th>4</th>\n",
       "      <td>0.471817</td>\n",
       "      <td>-9.992597</td>\n",
       "      <td>0.5</td>\n",
       "      <td>0.699095</td>\n",
       "    </tr>\n",
       "    <tr>\n",
       "      <th>...</th>\n",
       "      <td>...</td>\n",
       "      <td>...</td>\n",
       "      <td>...</td>\n",
       "      <td>...</td>\n",
       "    </tr>\n",
       "    <tr>\n",
       "      <th>77</th>\n",
       "      <td>1.166246</td>\n",
       "      <td>-8.839506</td>\n",
       "      <td>-1.0</td>\n",
       "      <td>0.938969</td>\n",
       "    </tr>\n",
       "    <tr>\n",
       "      <th>79</th>\n",
       "      <td>1.179738</td>\n",
       "      <td>-8.708940</td>\n",
       "      <td>-1.0</td>\n",
       "      <td>0.952460</td>\n",
       "    </tr>\n",
       "    <tr>\n",
       "      <th>80</th>\n",
       "      <td>1.174183</td>\n",
       "      <td>-8.578374</td>\n",
       "      <td>-1.0</td>\n",
       "      <td>0.946905</td>\n",
       "    </tr>\n",
       "    <tr>\n",
       "      <th>81</th>\n",
       "      <td>1.204341</td>\n",
       "      <td>-8.478615</td>\n",
       "      <td>-1.0</td>\n",
       "      <td>0.977063</td>\n",
       "    </tr>\n",
       "    <tr>\n",
       "      <th>82</th>\n",
       "      <td>1.223388</td>\n",
       "      <td>-8.368587</td>\n",
       "      <td>-1.0</td>\n",
       "      <td>0.996110</td>\n",
       "    </tr>\n",
       "  </tbody>\n",
       "</table>\n",
       "<p>75 rows × 4 columns</p>\n",
       "</div>"
      ],
      "text/plain": [
       "           x          y    R        x1\n",
       "0   0.395628 -12.389735  0.5  0.622906\n",
       "1   0.409120 -10.996050  0.5  0.636398\n",
       "2   0.411898 -10.514862  0.5  0.639175\n",
       "3   0.441659 -10.384296  0.5  0.668937\n",
       "4   0.471817  -9.992597  0.5  0.699095\n",
       "..       ...        ...  ...       ...\n",
       "77  1.166246  -8.839506 -1.0  0.938969\n",
       "79  1.179738  -8.708940 -1.0  0.952460\n",
       "80  1.174183  -8.578374 -1.0  0.946905\n",
       "81  1.204341  -8.478615 -1.0  0.977063\n",
       "82  1.223388  -8.368587 -1.0  0.996110\n",
       "\n",
       "[75 rows x 4 columns]"
      ]
     },
     "execution_count": 106,
     "metadata": {},
     "output_type": "execute_result"
    }
   ],
   "source": [
    "import pandas_profiling as ppf\n",
    "data = pd.read_csv('./data/train_data_xiuzheng.csv')\n",
    "data=data.drop_duplicates(subset='x')\n",
    "# ppf.ProfileReport(data)\n",
    "data"
   ]
  },
  {
   "cell_type": "code",
   "execution_count": 107,
   "metadata": {},
   "outputs": [
    {
     "data": {
      "text/plain": [
       "<matplotlib.collections.PathCollection at 0x134dc1c0160>"
      ]
     },
     "execution_count": 107,
     "metadata": {},
     "output_type": "execute_result"
    },
    {
     "data": {
      "image/png": "[encoded data removed]",
      "text/plain": [
       "<Figure size 432x288 with 1 Axes>"
      ]
     },
     "metadata": {
      "needs_background": "light"
     },
     "output_type": "display_data"
    }
   ],
   "source": [
    "import matplotlib.pylab as plt\n",
    "\n",
    "plt.scatter(data['x1'].values,data['y'].values)"
   ]
  },
  {
   "cell_type": "code",
   "execution_count": 108,
   "metadata": {},
   "outputs": [],
   "source": [
    "\n",
    "\n",
    "# 分割训练集和测试集\n",
    "\n",
    "\n",
    "\n",
    "x = data.iloc[:, [0,2]].values\n",
    "y = data.iloc[:, 1].values\n",
    "x_train, x_test, y_train, y_test = train_test_split(x, y, test_size=0.2)\n",
    "\n",
    "# 数据标准化\n",
    "ss1 = preprocessing.StandardScaler()\n",
    "x_train = ss1.fit_transform(x_train)\n",
    "x_test = ss1.transform(x_test)\n",
    "x_total=ss1.transform(x)\n",
    "\n",
    "\n",
    "y_mean = y_train.mean()\n",
    "y_std = y_train.std()\n",
    "y_train = (y_train-y_mean)/y_std\n",
    "y_test=(y_test-y_mean)/y_std\n",
    "\n",
    "# numpy转tensor\n",
    "x_train = torch.from_numpy(x_train).float()\n",
    "y_train = torch.from_numpy(y_train).float().view(-1,1)\n",
    "x_test = torch.from_numpy(x_test).float()\n",
    "y_test = torch.from_numpy(y_test).float().view(-1,1)\n",
    "x_total=torch.from_numpy(x_total).float()\n",
    "\n",
    "# batch_size = 64\n",
    "\n",
    "# print(next(iter(loader)))\n"
   ]
  },
  {
   "cell_type": "code",
   "execution_count": 109,
   "metadata": {},
   "outputs": [],
   "source": [
    "class LR(nn.Module):\n",
    "\n",
    "    def __init__(self,trial):\n",
    "        super(LR, self).__init__()\n",
    "        fc1_out=trial.suggest_int(\"fc1_out\", 8, 128,8)\n",
    "        self.fc1 = nn.Linear(2, fc1_out)\n",
    "        fc2_out=trial.suggest_int(\"fc2_out\", 8, 128,8)\n",
    "        self.fc2 = nn.Linear(fc1_out, fc2_out)\n",
    "        fc3_out=trial.suggest_int(\"fc3_out\", 8, 64,8)\n",
    "        self.fc3= nn.Linear(fc2_out, fc3_out)\n",
    "        self.fc4= nn.Linear(fc3_out, 1)\n",
    "        # activefunct=trial.suggest_categorical(\"activefunct\", [\"relu\", \"sigmoid\",\"tanh\"])\n",
    "        # self.sigmoid=getattr(torch,activefunct)\n",
    "    def forward(self, x):\n",
    "        x = torch.relu((self.fc1(x)))\n",
    "        x = torch.relu((self.fc2(x)))\n",
    "        x=torch.relu((self.fc3(x)))\n",
    "        x = self.fc4(x)\n",
    "        return x"
   ]
  },
  {
   "cell_type": "code",
   "execution_count": 110,
   "metadata": {},
   "outputs": [],
   "source": [
    "epochs=3000"
   ]
  },
  {
   "cell_type": "code",
   "execution_count": 112,
   "metadata": {},
   "outputs": [],
   "source": [
    "\n",
    "def objective(trial):\n",
    "    torch_dataset = Data.TensorDataset(x_train, y_train) \n",
    "    batch_size = trial.suggest_int(\"batch_size\", 4, 64,step=4)\n",
    "    loader = Data.DataLoader(dataset=torch_dataset,batch_size=batch_size,shuffle=True)   #! batch_size可改\n",
    "    \n",
    "    net=LR(trial)\n",
    "    net.to(device)\n",
    "    criterion = nn.MSELoss()\n",
    "\n",
    "    # optimizer_name = trial.suggest_categorical(\"optimizer\", [\"Adam\", \"Adadelta\",\"Adagrad\",\"RMSprop\"])\n",
    "    lr = trial.suggest_float(\"lr\", 1e-5, 1e-1,log=True)\n",
    "    weight_decay=trial.suggest_float(\"weight_decay\",1e-3,1e-1,log=True)\n",
    "    # optimizer = getattr(optim, optimizer_name)(net.parameters(), lr=lr,weight_decay=weight_decay) \n",
    "\n",
    "    # momentum= trial.suggest_float('momentum',0,1,step=0.01)\n",
    "    optimizer=optim.Adam(net.parameters(), lr=lr,weight_decay=weight_decay)\n",
    "    epochs_list=[]\n",
    "    train_loss_list=[]\n",
    "    test_error_list=[]\n",
    "    for e in range(epochs):\n",
    "        epochs_list.append(e)\n",
    "        net.train()\n",
    "        for i, (batch_x, batch_y) in enumerate(loader):\n",
    "            batch_x, batch_y=batch_x.to(device), batch_y.to(device)\n",
    "            y_hat = net(batch_x)\n",
    "    #         print(y_hat.shape)\n",
    "            \n",
    "            loss = criterion(y_hat, batch_y)\n",
    "            optimizer.zero_grad()\n",
    "            loss.backward()\n",
    "            optimizer.step()\n",
    "\n",
    "        net.eval()\n",
    "        with torch.no_grad():\n",
    "            x_train,y_train=x_train.to(device),y_train.to(device)\n",
    "            y_pred_train= net(x_train)\n",
    "            loss = criterion(y_pred_train, y_train)\n",
    "            train_loss_list.append(loss.item())\n",
    "            \n",
    "            x_test,y_test=x_test.to(device),y_test.to(device)\n",
    "            y_pred_test = net(x_test)\n",
    "            error = criterion(y_pred_test, y_test)\n",
    "            test_error_list.append(error.item())\n",
    "            # if (e+1)%50==0:\n",
    "            #     print(\"Epoch:{}, trainLoss:{}，testLoss:{}\".format(e+1,loss.item(),error.item()))\n",
    "\n",
    "        trial.report(error,e)\n",
    "        if trial.should_prune():\n",
    "            raise optuna.exceptions.TrialPruned()\n",
    "    return error\n"
   ]
  },
  {
   "cell_type": "code",
   "execution_count": 113,
   "metadata": {},
   "outputs": [
    {
     "name": "stderr",
     "output_type": "stream",
     "text": [
      "\u001b[32m[I 2022-10-26 11:12:58,691]\u001b[0m A new study created in memory with name: no-name-b602e185-c6da-4f6b-9298-25202ec2e517\u001b[0m\n",
      "\u001b[32m[I 2022-10-26 11:13:35,295]\u001b[0m Trial 0 finished with value: 0.3260686993598938 and parameters: {'batch_size': 12, 'fc1_out': 72, 'fc2_out': 104, 'fc3_out': 40, 'lr': 0.012867709395203273, 'weight_decay': 0.005559122569402156}. Best is trial 0 with value: 0.3260686993598938.\u001b[0m\n",
      "\u001b[32m[I 2022-10-26 11:13:53,014]\u001b[0m Trial 1 finished with value: 0.23558107018470764 and parameters: {'batch_size': 56, 'fc1_out': 40, 'fc2_out': 40, 'fc3_out': 8, 'lr': 0.0039423637428239325, 'weight_decay': 0.02056904507645955}. Best is trial 1 with value: 0.23558107018470764.\u001b[0m\n",
      "\u001b[32m[I 2022-10-26 11:14:11,023]\u001b[0m Trial 2 finished with value: 0.6029683351516724 and parameters: {'batch_size': 52, 'fc1_out': 48, 'fc2_out': 104, 'fc3_out': 16, 'lr': 0.07400185867800255, 'weight_decay': 0.0023085392375147467}. Best is trial 1 with value: 0.23558107018470764.\u001b[0m\n",
      "\u001b[32m[I 2022-10-26 11:14:29,605]\u001b[0m Trial 3 finished with value: 0.28396958112716675 and parameters: {'batch_size': 56, 'fc1_out': 32, 'fc2_out': 104, 'fc3_out': 24, 'lr': 0.0014035147043042382, 'weight_decay': 0.0014846891854725889}. Best is trial 1 with value: 0.23558107018470764.\u001b[0m\n",
      "\u001b[32m[I 2022-10-26 11:14:47,170]\u001b[0m Trial 4 finished with value: 0.32416534423828125 and parameters: {'batch_size': 36, 'fc1_out': 48, 'fc2_out': 104, 'fc3_out': 32, 'lr': 0.0004022734914603782, 'weight_decay': 0.045033866308867715}. Best is trial 1 with value: 0.23558107018470764.\u001b[0m\n",
      "\u001b[32m[I 2022-10-26 11:15:12,228]\u001b[0m Trial 5 finished with value: 0.3252159059047699 and parameters: {'batch_size': 28, 'fc1_out': 56, 'fc2_out': 112, 'fc3_out': 64, 'lr': 0.006191135461515557, 'weight_decay': 0.0012560525012996317}. Best is trial 1 with value: 0.23558107018470764.\u001b[0m\n",
      "\u001b[32m[I 2022-10-26 11:15:37,735]\u001b[0m Trial 6 finished with value: 0.3532339632511139 and parameters: {'batch_size': 28, 'fc1_out': 48, 'fc2_out': 8, 'fc3_out': 32, 'lr': 0.011563408746086195, 'weight_decay': 0.003115490908153692}. Best is trial 1 with value: 0.23558107018470764.\u001b[0m\n",
      "\u001b[32m[I 2022-10-26 11:15:37,753]\u001b[0m Trial 7 pruned. \u001b[0m\n",
      "\u001b[32m[I 2022-10-26 11:15:37,765]\u001b[0m Trial 8 pruned. \u001b[0m\n",
      "\u001b[32m[I 2022-10-26 11:15:37,772]\u001b[0m Trial 9 pruned. \u001b[0m\n",
      "\u001b[32m[I 2022-10-26 11:15:37,827]\u001b[0m Trial 10 pruned. \u001b[0m\n",
      "\u001b[32m[I 2022-10-26 11:15:37,852]\u001b[0m Trial 11 pruned. \u001b[0m\n",
      "\u001b[32m[I 2022-10-26 11:15:37,877]\u001b[0m Trial 12 pruned. \u001b[0m\n",
      "\u001b[32m[I 2022-10-26 11:15:37,904]\u001b[0m Trial 13 pruned. \u001b[0m\n",
      "\u001b[32m[I 2022-10-26 11:15:37,931]\u001b[0m Trial 14 pruned. \u001b[0m\n",
      "\u001b[32m[I 2022-10-26 11:15:37,956]\u001b[0m Trial 15 pruned. \u001b[0m\n",
      "\u001b[32m[I 2022-10-26 11:15:37,986]\u001b[0m Trial 16 pruned. \u001b[0m\n",
      "\u001b[32m[I 2022-10-26 11:15:38,013]\u001b[0m Trial 17 pruned. \u001b[0m\n",
      "\u001b[32m[I 2022-10-26 11:15:38,042]\u001b[0m Trial 18 pruned. \u001b[0m\n",
      "\u001b[32m[I 2022-10-26 11:15:38,384]\u001b[0m Trial 19 pruned. \u001b[0m\n"
     ]
    }
   ],
   "source": [
    "study = optuna.create_study(direction='minimize')\n",
    "study.optimize(objective, n_trials=20)\n"
   ]
  },
  {
   "cell_type": "code",
   "execution_count": 114,
   "metadata": {},
   "outputs": [
    {
     "name": "stdout",
     "output_type": "stream",
     "text": [
      "Accuracy: 0.23558107018470764\n",
      "Best hyperparameters: {'batch_size': 56, 'fc1_out': 40, 'fc2_out': 40, 'fc3_out': 8, 'lr': 0.0039423637428239325, 'weight_decay': 0.02056904507645955}\n"
     ]
    }
   ],
   "source": [
    "\n",
    "trial = study.best_trial\n",
    "print('Accuracy: {}'.format(trial.value))\n",
    "print(\"Best hyperparameters: {}\".format(trial.params))"
   ]
  },
  {
   "cell_type": "code",
   "execution_count": 115,
   "metadata": {},
   "outputs": [],
   "source": [
    "# import csv\n",
    "\n",
    "# with open('best_param.csv', 'a',newline='') as f:  \n",
    "#     writer = csv.writer(f)\n",
    "#     writer.writerow(['', ''])\n",
    "#     for k, v in trial.params.items():\n",
    "#         writer.writerow([k, v])"
   ]
  },
  {
   "cell_type": "code",
   "execution_count": 134,
   "metadata": {},
   "outputs": [],
   "source": [
    "valid_data=pd.read_csv('./data/test_data_xiuzheng.csv').values\n",
    "valid_data_target=valid_data[:,[0,2]]\n",
    "valid_data_y=valid_data[:,1]\n",
    "\n",
    "x_valid=ss1.transform(valid_data_target)\n",
    "x_valid = torch.from_numpy(x_valid).float()\n",
    "\n",
    "y_valid = torch.from_numpy(valid_data_y).float().view(-1,1)\n",
    "y_valid=(y_valid-y_mean)/y_std\n"
   ]
  },
  {
   "cell_type": "code",
   "execution_count": 135,
   "metadata": {},
   "outputs": [
    {
     "name": "stdout",
     "output_type": "stream",
     "text": [
      "Epoch:100, trainLoss:0.17722010612487793，testLoss:0.3713870048522949,ValidLoss:0.23432795703411102\n",
      "Epoch:200, trainLoss:0.15871192514896393，testLoss:0.3336528241634369,ValidLoss:0.2240799069404602\n"
     ]
    }
   ],
   "source": [
    "\n",
    "import matplotlib.pyplot as plt\n",
    "\n",
    "torch_dataset = Data.TensorDataset(x_train, y_train) \n",
    "batch_size = trial.suggest_int(\"batch_size\", 4, 64,step=4)\n",
    "loader = Data.DataLoader(dataset=torch_dataset,batch_size=batch_size,shuffle=True) \n",
    "\n",
    "net=LR(trial)\n",
    "net.to(device)\n",
    "criterion = nn.MSELoss()\n",
    "# optimizer_name = trial.suggest_categorical(\"optimizer\", [\"Adam\", \"Adadelta\",\"Adagrad\",\"RMSprop\"])\n",
    "lr = trial.suggest_float(\"lr\", 1e-5, 1e-1,log=True)\n",
    "weight_decay=trial.suggest_float(\"weight_decay\",1e-3,1e-1,log=True)\n",
    "# optimizer = getattr(optim, optimizer_name)(net.parameters(), lr=lr,weight_decay=weight_decay) \n",
    "optimizer=optim.Adam(net.parameters(), lr=lr,weight_decay=weight_decay)\n",
    "\n",
    "epochs_list=[]\n",
    "train_loss_list=[]\n",
    "test_error_list=[]\n",
    "valid_error_list=[]\n",
    "for e in range(200):\n",
    "    epochs_list.append(e)\n",
    "    net.train()\n",
    "    for i, (batch_x, batch_y) in enumerate(loader):\n",
    "        batch_x, batch_y=batch_x.to(device), batch_y.to(device)\n",
    "        y_hat=net(batch_x)\n",
    "#         print(y_hat.shape)\n",
    "        \n",
    "        loss = criterion(y_hat, batch_y)\n",
    "        optimizer.zero_grad()\n",
    "        loss.backward()\n",
    "        optimizer.step()\n",
    "\n",
    "    net.eval()\n",
    "    with torch.no_grad():\n",
    "        \n",
    "        y_pred_train= net(x_train)\n",
    "        loss = criterion(y_pred_train, y_train)\n",
    "        train_loss_list.append(loss.item())\n",
    "        \n",
    "        y_pred_test = net(x_test)\n",
    "        test_error = criterion(y_pred_test, y_test)\n",
    "        test_error_list.append(test_error.item())\n",
    "\n",
    "        x_valid,y_valid=x_valid.to(device),y_valid.to(device)\n",
    "        y_pred_valid=net(x_valid)\n",
    "        valid_error = criterion(y_pred_valid, y_valid)\n",
    "        valid_error_list.append(valid_error.item())\n",
    "\n",
    "        if (e+1)%100==0:\n",
    "            print(\"Epoch:{}, trainLoss:{}，testLoss:{},ValidLoss:{}\".format(e+1,loss.item(),test_error.item(),valid_error.item()))"
   ]
  },
  {
   "cell_type": "code",
   "execution_count": 136,
   "metadata": {},
   "outputs": [],
   "source": [
    "draw_method=\"xiuzheng\""
   ]
  },
  {
   "cell_type": "code",
   "execution_count": 137,
   "metadata": {},
   "outputs": [
    {
     "data": {
      "image/png": "[encoded data removed]",
      "text/plain": [
       "<Figure size 432x288 with 1 Axes>"
      ]
     },
     "metadata": {
      "needs_background": "light"
     },
     "output_type": "display_data"
    },
    {
     "data": {
      "image/png": "[encoded data removed]",
      "text/plain": [
       "<Figure size 1080x576 with 1 Axes>"
      ]
     },
     "metadata": {
      "needs_background": "light"
     },
     "output_type": "display_data"
    }
   ],
   "source": [
    "plt.figure()\n",
    "plt.xlabel(\"Training epochs\")\n",
    "plt.ylabel(\"error\")\n",
    "plt.grid()\n",
    "plt.plot(epochs_list, train_loss_list, '.-', color=\"r\",\n",
    "                label=\"train_loss\")\n",
    "plt.plot(epochs_list, test_error_list, '.-', color=\"g\",\n",
    "                label=\"test_error\")\n",
    "plt.plot(epochs_list, valid_error_list, '.-', color=\"b\",\n",
    "                label=\"valid_error\")\n",
    "plt.legend(loc=\"best\")\n",
    "\n",
    "net.eval()\n",
    "x_total=x_total.to(device)\n",
    "y_pred=net(x_total)\n",
    "y_pred=y_pred.data.cpu().numpy()\n",
    "y_pred=y_pred*y_std+y_mean\n",
    "\n",
    "y_pred_valid=net(x_valid)\n",
    "y_pred_valid=y_pred_valid.data.cpu().numpy()\n",
    "y_pred_valid=y_pred_valid*y_std+y_mean\n",
    "\n",
    "\n",
    "x_axis=data.iloc[:,0].values\n",
    "if(draw_method=='xiuzheng'):\n",
    "    x_axis=data.iloc[:,3].values\n",
    "    x_axis=np.power(10,x_axis)\n",
    "    y_pred=np.power(10,y_pred)\n",
    "    y_copy=np.power(10,y)\n",
    "plt.figure(figsize=(15,8))\n",
    "plt.scatter(x_axis,y_pred,s=50,c=\"b\",label='train_pred')\n",
    "plt.scatter(x_axis,y_copy,s=50,c=\"g\",label='train')\n",
    "\n",
    "x_axis_valid=valid_data[:,0]\n",
    "if(draw_method=='xiuzheng'):\n",
    "    x_axis_valid=valid_data[:,3]\n",
    "    x_axis_valid=np.power(10,x_axis_valid)\n",
    "    y_pred_valid=np.power(10,y_pred_valid)\n",
    "    valid_data_y=np.power(10,valid_data_y)\n",
    "plt.scatter(x_axis_valid,y_pred_valid,s=50,c=\"c\",label='valid_pred')\n",
    "plt.scatter(x_axis_valid,valid_data_y,s=50,c=\"r\",label='valid')\n",
    "if(draw_method=='xiuzheng'):\n",
    "    plt.xscale(\"log\")\n",
    "    plt.yscale(\"log\")\n",
    "plt.grid()\n",
    "plt.legend()\n",
    "if(draw_method==\"xiuzheng\"):\n",
    "    plt.xlim(1,100)\n",
    "else:\n",
    "    plt.xlim(0,2)\n",
    "    plt.ylim(-13,-7)"
   ]
  },
  {
   "cell_type": "code",
   "execution_count": null,
   "metadata": {},
   "outputs": [],
   "source": []
  },
  {
   "cell_type": "code",
   "execution_count": null,
   "metadata": {},
   "outputs": [],
   "source": []
  },
  {
   "cell_type": "code",
   "execution_count": null,
   "metadata": {},
   "outputs": [],
   "source": []
  }
 ],
 "metadata": {
  "kernelspec": {
   "display_name": "Python 3.10.4 ('pythonProject')",
   "language": "python",
   "name": "python3"
  },
  "language_info": {
   "codemirror_mode": {
    "name": "ipython",
    "version": 3
   },
   "file_extension": ".py",
   "mimetype": "text/x-python",
   "name": "python",
   "nbconvert_exporter": "python",
   "pygments_lexer": "ipython3",
   "version": "3.10.4"
  },
  "orig_nbformat": 4,
  "vscode": {
   "interpreter": {
    "hash": "031490cb4fb8a925db20958c57cafe119126066026c78a34d7b5ac309ed8eb51"
   }
  }
 },
 "nbformat": 4,
 "nbformat_minor": 2
}
