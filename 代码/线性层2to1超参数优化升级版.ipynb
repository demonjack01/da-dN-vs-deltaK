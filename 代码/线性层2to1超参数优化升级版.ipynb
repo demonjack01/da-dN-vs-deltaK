{
 "cells": [
  {
   "cell_type": "code",
   "execution_count": 2,
   "metadata": {},
   "outputs": [],
   "source": [
    "import numpy as np\n",
    "import pandas as pd\n",
    "import torch\n",
    "import torch.nn as nn\n",
    "import torch.optim as optim \n",
    "from sklearn.model_selection import train_test_split\n",
    "from sklearn import preprocessing\n",
    "import torch.utils.data as Data\n",
    "import optuna\n",
    "import optuna.trial\n",
    "import os "
   ]
  },
  {
   "cell_type": "code",
   "execution_count": 2,
   "metadata": {},
   "outputs": [
    {
     "data": {
      "text/html": [
       "<div>\n",
       "<style scoped>\n",
       "    .dataframe tbody tr th:only-of-type {\n",
       "        vertical-align: middle;\n",
       "    }\n",
       "\n",
       "    .dataframe tbody tr th {\n",
       "        vertical-align: top;\n",
       "    }\n",
       "\n",
       "    .dataframe thead th {\n",
       "        text-align: right;\n",
       "    }\n",
       "</style>\n",
       "<table border=\"1\" class=\"dataframe\">\n",
       "  <thead>\n",
       "    <tr style=\"text-align: right;\">\n",
       "      <th></th>\n",
       "      <th>x</th>\n",
       "      <th>y</th>\n",
       "      <th>R</th>\n",
       "    </tr>\n",
       "  </thead>\n",
       "  <tbody>\n",
       "    <tr>\n",
       "      <th>0</th>\n",
       "      <td>0.169509</td>\n",
       "      <td>-10.495672</td>\n",
       "      <td>0.7</td>\n",
       "    </tr>\n",
       "    <tr>\n",
       "      <th>1</th>\n",
       "      <td>0.171749</td>\n",
       "      <td>-10.056267</td>\n",
       "      <td>0.7</td>\n",
       "    </tr>\n",
       "    <tr>\n",
       "      <th>2</th>\n",
       "      <td>0.174885</td>\n",
       "      <td>-9.569808</td>\n",
       "      <td>0.7</td>\n",
       "    </tr>\n",
       "    <tr>\n",
       "      <th>3</th>\n",
       "      <td>0.177126</td>\n",
       "      <td>-9.385051</td>\n",
       "      <td>0.7</td>\n",
       "    </tr>\n",
       "    <tr>\n",
       "      <th>4</th>\n",
       "      <td>0.180390</td>\n",
       "      <td>-9.052903</td>\n",
       "      <td>0.7</td>\n",
       "    </tr>\n",
       "    <tr>\n",
       "      <th>...</th>\n",
       "      <td>...</td>\n",
       "      <td>...</td>\n",
       "      <td>...</td>\n",
       "    </tr>\n",
       "    <tr>\n",
       "      <th>292</th>\n",
       "      <td>1.913537</td>\n",
       "      <td>-4.968518</td>\n",
       "      <td>-1.0</td>\n",
       "    </tr>\n",
       "    <tr>\n",
       "      <th>293</th>\n",
       "      <td>1.926978</td>\n",
       "      <td>-4.918350</td>\n",
       "      <td>-1.0</td>\n",
       "    </tr>\n",
       "    <tr>\n",
       "      <th>294</th>\n",
       "      <td>1.940420</td>\n",
       "      <td>-4.847422</td>\n",
       "      <td>-1.0</td>\n",
       "    </tr>\n",
       "    <tr>\n",
       "      <th>295</th>\n",
       "      <td>1.953861</td>\n",
       "      <td>-4.752275</td>\n",
       "      <td>-1.0</td>\n",
       "    </tr>\n",
       "    <tr>\n",
       "      <th>296</th>\n",
       "      <td>1.967303</td>\n",
       "      <td>-4.662319</td>\n",
       "      <td>-1.0</td>\n",
       "    </tr>\n",
       "  </tbody>\n",
       "</table>\n",
       "<p>289 rows × 3 columns</p>\n",
       "</div>"
      ],
      "text/plain": [
       "            x          y    R\n",
       "0    0.169509 -10.495672  0.7\n",
       "1    0.171749 -10.056267  0.7\n",
       "2    0.174885  -9.569808  0.7\n",
       "3    0.177126  -9.385051  0.7\n",
       "4    0.180390  -9.052903  0.7\n",
       "..        ...        ...  ...\n",
       "292  1.913537  -4.968518 -1.0\n",
       "293  1.926978  -4.918350 -1.0\n",
       "294  1.940420  -4.847422 -1.0\n",
       "295  1.953861  -4.752275 -1.0\n",
       "296  1.967303  -4.662319 -1.0\n",
       "\n",
       "[289 rows x 3 columns]"
      ]
     },
     "execution_count": 2,
     "metadata": {},
     "output_type": "execute_result"
    }
   ],
   "source": [
    "import pandas_profiling as ppf\n",
    "data = pd.read_csv('./data/train_data_3.csv')\n",
    "data=data.drop_duplicates(subset='x')\n",
    "# ppf.ProfileReport(data)\n",
    "data"
   ]
  },
  {
   "cell_type": "code",
   "execution_count": 3,
   "metadata": {},
   "outputs": [],
   "source": [
    "\n",
    "\n",
    "# 分割训练集和测试集\n",
    "\n",
    "\n",
    "\n",
    "x = data.iloc[:, [0,2]].values\n",
    "y = data.iloc[:, 1].values\n",
    "x_train, x_test, y_train, y_test = train_test_split(x, y, test_size=0.2)\n",
    "\n",
    "# 数据标准化\n",
    "ss1 = preprocessing.StandardScaler()\n",
    "x_train = ss1.fit_transform(x_train)\n",
    "x_test = ss1.transform(x_test)\n",
    "x_total=ss1.transform(x)\n",
    "\n",
    "\n",
    "y_mean = y_train.mean()\n",
    "y_std = y_train.std()\n",
    "y_train = (y_train-y_mean)/y_std\n",
    "y_test=(y_test-y_mean)/y_std\n",
    "\n",
    "# numpy转tensor\n",
    "x_train = torch.from_numpy(x_train).float()\n",
    "y_train = torch.from_numpy(y_train).float().view(-1,1)\n",
    "x_test = torch.from_numpy(x_test).float()\n",
    "y_test = torch.from_numpy(y_test).float().view(-1,1)\n",
    "x_total=torch.from_numpy(x_total).float()\n",
    "\n",
    "# batch_size = 64\n",
    "\n",
    "# print(next(iter(loader)))\n"
   ]
  },
  {
   "cell_type": "code",
   "execution_count": 4,
   "metadata": {},
   "outputs": [],
   "source": [
    "class LR(nn.Module):\n",
    "\n",
    "    def __init__(self,trial):\n",
    "        super(LR, self).__init__()\n",
    "        fc1_out=trial.suggest_int(\"fc1_out\", 8, 128,8)\n",
    "        self.fc1 = nn.Linear(2, fc1_out)\n",
    "        fc2_out=trial.suggest_int(\"fc2_out\", 8, 128,8)\n",
    "        self.fc2 = nn.Linear(fc1_out, fc2_out)\n",
    "        fc3_out=trial.suggest_int(\"fc3_out\", 8, 64,8)\n",
    "        self.fc3= nn.Linear(fc2_out, fc3_out)\n",
    "        self.fc4= nn.Linear(fc3_out, 1)\n",
    "        activefunct=trial.suggest_categorical(\"activefunct\", [\"relu\", \"sigmoid\",\"tanh\"])\n",
    "        self.sigmoid=getattr(torch,activefunct)\n",
    "    def forward(self, x):\n",
    "        x = self.sigmoid((self.fc1(x)))\n",
    "        x = self.sigmoid((self.fc2(x)))\n",
    "        x=self.sigmoid((self.fc3(x)))\n",
    "        x = self.fc4(x)\n",
    "        return x"
   ]
  },
  {
   "cell_type": "code",
   "execution_count": 5,
   "metadata": {},
   "outputs": [],
   "source": [
    "epochs=3000"
   ]
  },
  {
   "cell_type": "code",
   "execution_count": 6,
   "metadata": {},
   "outputs": [],
   "source": [
    "\n",
    "def objective(trial):\n",
    "    torch_dataset = Data.TensorDataset(x_train, y_train) \n",
    "    batch_size = trial.suggest_int(\"batch_size\", 1, 16)\n",
    "    loader = Data.DataLoader(dataset=torch_dataset,batch_size=8,shuffle=True) \n",
    "    \n",
    "    net=LR(trial)\n",
    "    criterion = nn.MSELoss()\n",
    "\n",
    "    optimizer_name = trial.suggest_categorical(\"optimizer\", [\"Adam\", \"Adadelta\",\"Adagrad\",\"RMSprop\"])\n",
    "    lr = trial.suggest_float(\"lr\", 1e-5, 1e-1,log=True)\n",
    "    weight_decay=trial.suggest_float(\"weight_decay\",1e-3,1e-1,log=True)\n",
    "    optimizer = getattr(optim, optimizer_name)(net.parameters(), lr=lr,weight_decay=weight_decay) \n",
    "\n",
    "    # momentum= trial.suggest_float('momentum',0,1,step=0.01)\n",
    "    # optimizer=optim.RMSprop(net.parameters(), lr=lr,weight_decay=weight_decay,momentum=momentum)\n",
    "    epochs_list=[]\n",
    "    train_loss_list=[]\n",
    "    test_error_list=[]\n",
    "    for e in range(epochs):\n",
    "        epochs_list.append(e)\n",
    "        net.train()\n",
    "        for i, (batch_x, batch_y) in enumerate(loader):\n",
    "            y_hat = net(batch_x)\n",
    "    #         print(y_hat.shape)\n",
    "            \n",
    "            loss = criterion(y_hat, batch_y)\n",
    "            optimizer.zero_grad()\n",
    "            loss.backward()\n",
    "            optimizer.step()\n",
    "\n",
    "        net.eval()\n",
    "        with torch.no_grad():\n",
    "            y_pred_train= net(x_train)\n",
    "            loss = criterion(y_pred_train, y_train)\n",
    "            train_loss_list.append(loss.item())\n",
    "            \n",
    "            y_pred_test = net(x_test)\n",
    "            error = criterion(y_pred_test, y_test)\n",
    "            test_error_list.append(error.item())\n",
    "            # if (e+1)%50==0:\n",
    "            #     print(\"Epoch:{}, trainLoss:{}，testLoss:{}\".format(e+1,loss.item(),error.item()))\n",
    "\n",
    "        trial.report(error,e)\n",
    "        if trial.should_prune():\n",
    "            raise optuna.exceptions.TrialPruned()\n",
    "    return error\n"
   ]
  },
  {
   "cell_type": "code",
   "execution_count": 7,
   "metadata": {},
   "outputs": [
    {
     "name": "stderr",
     "output_type": "stream",
     "text": [
      "\u001b[32m[I 2022-10-25 16:43:26,749]\u001b[0m A new study created in memory with name: no-name-ec550d8b-3fb3-4d6d-8986-5e0971c95930\u001b[0m\n",
      "\u001b[33m[W 2022-10-25 16:52:59,537]\u001b[0m Trial 0 failed because of the following error: KeyboardInterrupt()\u001b[0m\n",
      "Traceback (most recent call last):\n",
      "  File \"c:\\Users\\86189\\anaconda3\\envs\\pythonProject\\lib\\site-packages\\optuna\\study\\_optimize.py\", line 196, in _run_trial\n",
      "    value_or_values = func(trial)\n",
      "  File \"C:\\Users\\86189\\AppData\\Local\\Temp\\ipykernel_1864\\2967934960.py\", line 22, in objective\n",
      "    for i, (batch_x, batch_y) in enumerate(loader):\n",
      "  File \"c:\\Users\\86189\\anaconda3\\envs\\pythonProject\\lib\\site-packages\\torch\\utils\\data\\dataloader.py\", line 681, in __next__\n",
      "    data = self._next_data()\n",
      "  File \"c:\\Users\\86189\\anaconda3\\envs\\pythonProject\\lib\\site-packages\\torch\\utils\\data\\dataloader.py\", line 721, in _next_data\n",
      "    data = self._dataset_fetcher.fetch(index)  # may raise StopIteration\n",
      "  File \"c:\\Users\\86189\\anaconda3\\envs\\pythonProject\\lib\\site-packages\\torch\\utils\\data\\_utils\\fetch.py\", line 52, in fetch\n",
      "    return self.collate_fn(data)\n",
      "  File \"c:\\Users\\86189\\anaconda3\\envs\\pythonProject\\lib\\site-packages\\torch\\utils\\data\\_utils\\collate.py\", line 175, in default_collate\n",
      "    return [default_collate(samples) for samples in transposed]  # Backwards compatibility.\n",
      "  File \"c:\\Users\\86189\\anaconda3\\envs\\pythonProject\\lib\\site-packages\\torch\\utils\\data\\_utils\\collate.py\", line 175, in <listcomp>\n",
      "    return [default_collate(samples) for samples in transposed]  # Backwards compatibility.\n",
      "  File \"c:\\Users\\86189\\anaconda3\\envs\\pythonProject\\lib\\site-packages\\torch\\utils\\data\\_utils\\collate.py\", line 141, in default_collate\n",
      "    return torch.stack(batch, 0, out=out)\n",
      "KeyboardInterrupt\n"
     ]
    },
    {
     "ename": "KeyboardInterrupt",
     "evalue": "",
     "output_type": "error",
     "traceback": [
      "\u001b[1;31m---------------------------------------------------------------------------\u001b[0m",
      "\u001b[1;31mKeyboardInterrupt\u001b[0m                         Traceback (most recent call last)",
      "\u001b[1;32mc:\\Users\\86189\\Desktop\\大创及项目\\代码\\线性层2to1超参数优化升级版.ipynb Cell 7\u001b[0m in \u001b[0;36m<cell line: 2>\u001b[1;34m()\u001b[0m\n\u001b[0;32m      <a href='vscode-notebook-cell:/c%3A/Users/86189/Desktop/%E5%A4%A7%E5%88%9B%E5%8F%8A%E9%A1%B9%E7%9B%AE/%E4%BB%A3%E7%A0%81/%E7%BA%BF%E6%80%A7%E5%B1%822to1%E8%B6%85%E5%8F%82%E6%95%B0%E4%BC%98%E5%8C%96%E5%8D%87%E7%BA%A7%E7%89%88.ipynb#W6sZmlsZQ%3D%3D?line=0'>1</a>\u001b[0m study \u001b[39m=\u001b[39m optuna\u001b[39m.\u001b[39mcreate_study(direction\u001b[39m=\u001b[39m\u001b[39m'\u001b[39m\u001b[39mminimize\u001b[39m\u001b[39m'\u001b[39m)\n\u001b[1;32m----> <a href='vscode-notebook-cell:/c%3A/Users/86189/Desktop/%E5%A4%A7%E5%88%9B%E5%8F%8A%E9%A1%B9%E7%9B%AE/%E4%BB%A3%E7%A0%81/%E7%BA%BF%E6%80%A7%E5%B1%822to1%E8%B6%85%E5%8F%82%E6%95%B0%E4%BC%98%E5%8C%96%E5%8D%87%E7%BA%A7%E7%89%88.ipynb#W6sZmlsZQ%3D%3D?line=1'>2</a>\u001b[0m study\u001b[39m.\u001b[39;49moptimize(objective, n_trials\u001b[39m=\u001b[39;49m\u001b[39m20\u001b[39;49m)\n",
      "File \u001b[1;32mc:\\Users\\86189\\anaconda3\\envs\\pythonProject\\lib\\site-packages\\optuna\\study\\study.py:419\u001b[0m, in \u001b[0;36mStudy.optimize\u001b[1;34m(self, func, n_trials, timeout, n_jobs, catch, callbacks, gc_after_trial, show_progress_bar)\u001b[0m\n\u001b[0;32m    315\u001b[0m \u001b[39mdef\u001b[39;00m \u001b[39moptimize\u001b[39m(\n\u001b[0;32m    316\u001b[0m     \u001b[39mself\u001b[39m,\n\u001b[0;32m    317\u001b[0m     func: ObjectiveFuncType,\n\u001b[1;32m   (...)\u001b[0m\n\u001b[0;32m    324\u001b[0m     show_progress_bar: \u001b[39mbool\u001b[39m \u001b[39m=\u001b[39m \u001b[39mFalse\u001b[39;00m,\n\u001b[0;32m    325\u001b[0m ) \u001b[39m-\u001b[39m\u001b[39m>\u001b[39m \u001b[39mNone\u001b[39;00m:\n\u001b[0;32m    326\u001b[0m     \u001b[39m\"\"\"Optimize an objective function.\u001b[39;00m\n\u001b[0;32m    327\u001b[0m \n\u001b[0;32m    328\u001b[0m \u001b[39m    Optimization is done by choosing a suitable set of hyperparameter values from a given\u001b[39;00m\n\u001b[1;32m   (...)\u001b[0m\n\u001b[0;32m    416\u001b[0m \u001b[39m            If nested invocation of this method occurs.\u001b[39;00m\n\u001b[0;32m    417\u001b[0m \u001b[39m    \"\"\"\u001b[39;00m\n\u001b[1;32m--> 419\u001b[0m     _optimize(\n\u001b[0;32m    420\u001b[0m         study\u001b[39m=\u001b[39;49m\u001b[39mself\u001b[39;49m,\n\u001b[0;32m    421\u001b[0m         func\u001b[39m=\u001b[39;49mfunc,\n\u001b[0;32m    422\u001b[0m         n_trials\u001b[39m=\u001b[39;49mn_trials,\n\u001b[0;32m    423\u001b[0m         timeout\u001b[39m=\u001b[39;49mtimeout,\n\u001b[0;32m    424\u001b[0m         n_jobs\u001b[39m=\u001b[39;49mn_jobs,\n\u001b[0;32m    425\u001b[0m         catch\u001b[39m=\u001b[39;49mcatch,\n\u001b[0;32m    426\u001b[0m         callbacks\u001b[39m=\u001b[39;49mcallbacks,\n\u001b[0;32m    427\u001b[0m         gc_after_trial\u001b[39m=\u001b[39;49mgc_after_trial,\n\u001b[0;32m    428\u001b[0m         show_progress_bar\u001b[39m=\u001b[39;49mshow_progress_bar,\n\u001b[0;32m    429\u001b[0m     )\n",
      "File \u001b[1;32mc:\\Users\\86189\\anaconda3\\envs\\pythonProject\\lib\\site-packages\\optuna\\study\\_optimize.py:66\u001b[0m, in \u001b[0;36m_optimize\u001b[1;34m(study, func, n_trials, timeout, n_jobs, catch, callbacks, gc_after_trial, show_progress_bar)\u001b[0m\n\u001b[0;32m     64\u001b[0m \u001b[39mtry\u001b[39;00m:\n\u001b[0;32m     65\u001b[0m     \u001b[39mif\u001b[39;00m n_jobs \u001b[39m==\u001b[39m \u001b[39m1\u001b[39m:\n\u001b[1;32m---> 66\u001b[0m         _optimize_sequential(\n\u001b[0;32m     67\u001b[0m             study,\n\u001b[0;32m     68\u001b[0m             func,\n\u001b[0;32m     69\u001b[0m             n_trials,\n\u001b[0;32m     70\u001b[0m             timeout,\n\u001b[0;32m     71\u001b[0m             catch,\n\u001b[0;32m     72\u001b[0m             callbacks,\n\u001b[0;32m     73\u001b[0m             gc_after_trial,\n\u001b[0;32m     74\u001b[0m             reseed_sampler_rng\u001b[39m=\u001b[39;49m\u001b[39mFalse\u001b[39;49;00m,\n\u001b[0;32m     75\u001b[0m             time_start\u001b[39m=\u001b[39;49m\u001b[39mNone\u001b[39;49;00m,\n\u001b[0;32m     76\u001b[0m             progress_bar\u001b[39m=\u001b[39;49mprogress_bar,\n\u001b[0;32m     77\u001b[0m         )\n\u001b[0;32m     78\u001b[0m     \u001b[39melse\u001b[39;00m:\n\u001b[0;32m     79\u001b[0m         \u001b[39mif\u001b[39;00m n_jobs \u001b[39m==\u001b[39m \u001b[39m-\u001b[39m\u001b[39m1\u001b[39m:\n",
      "File \u001b[1;32mc:\\Users\\86189\\anaconda3\\envs\\pythonProject\\lib\\site-packages\\optuna\\study\\_optimize.py:160\u001b[0m, in \u001b[0;36m_optimize_sequential\u001b[1;34m(study, func, n_trials, timeout, catch, callbacks, gc_after_trial, reseed_sampler_rng, time_start, progress_bar)\u001b[0m\n\u001b[0;32m    157\u001b[0m         \u001b[39mbreak\u001b[39;00m\n\u001b[0;32m    159\u001b[0m \u001b[39mtry\u001b[39;00m:\n\u001b[1;32m--> 160\u001b[0m     frozen_trial \u001b[39m=\u001b[39m _run_trial(study, func, catch)\n\u001b[0;32m    161\u001b[0m \u001b[39mfinally\u001b[39;00m:\n\u001b[0;32m    162\u001b[0m     \u001b[39m# The following line mitigates memory problems that can be occurred in some\u001b[39;00m\n\u001b[0;32m    163\u001b[0m     \u001b[39m# environments (e.g., services that use computing containers such as CircleCI).\u001b[39;00m\n\u001b[0;32m    164\u001b[0m     \u001b[39m# Please refer to the following PR for further details:\u001b[39;00m\n\u001b[0;32m    165\u001b[0m     \u001b[39m# https://github.com/optuna/optuna/pull/325.\u001b[39;00m\n\u001b[0;32m    166\u001b[0m     \u001b[39mif\u001b[39;00m gc_after_trial:\n",
      "File \u001b[1;32mc:\\Users\\86189\\anaconda3\\envs\\pythonProject\\lib\\site-packages\\optuna\\study\\_optimize.py:234\u001b[0m, in \u001b[0;36m_run_trial\u001b[1;34m(study, func, catch)\u001b[0m\n\u001b[0;32m    227\u001b[0m         \u001b[39massert\u001b[39;00m \u001b[39mFalse\u001b[39;00m, \u001b[39m\"\u001b[39m\u001b[39mShould not reach.\u001b[39m\u001b[39m\"\u001b[39m\n\u001b[0;32m    229\u001b[0m \u001b[39mif\u001b[39;00m (\n\u001b[0;32m    230\u001b[0m     frozen_trial\u001b[39m.\u001b[39mstate \u001b[39m==\u001b[39m TrialState\u001b[39m.\u001b[39mFAIL\n\u001b[0;32m    231\u001b[0m     \u001b[39mand\u001b[39;00m func_err \u001b[39mis\u001b[39;00m \u001b[39mnot\u001b[39;00m \u001b[39mNone\u001b[39;00m\n\u001b[0;32m    232\u001b[0m     \u001b[39mand\u001b[39;00m \u001b[39mnot\u001b[39;00m \u001b[39misinstance\u001b[39m(func_err, catch)\n\u001b[0;32m    233\u001b[0m ):\n\u001b[1;32m--> 234\u001b[0m     \u001b[39mraise\u001b[39;00m func_err\n\u001b[0;32m    235\u001b[0m \u001b[39mreturn\u001b[39;00m frozen_trial\n",
      "File \u001b[1;32mc:\\Users\\86189\\anaconda3\\envs\\pythonProject\\lib\\site-packages\\optuna\\study\\_optimize.py:196\u001b[0m, in \u001b[0;36m_run_trial\u001b[1;34m(study, func, catch)\u001b[0m\n\u001b[0;32m    194\u001b[0m \u001b[39mwith\u001b[39;00m get_heartbeat_thread(trial\u001b[39m.\u001b[39m_trial_id, study\u001b[39m.\u001b[39m_storage):\n\u001b[0;32m    195\u001b[0m     \u001b[39mtry\u001b[39;00m:\n\u001b[1;32m--> 196\u001b[0m         value_or_values \u001b[39m=\u001b[39m func(trial)\n\u001b[0;32m    197\u001b[0m     \u001b[39mexcept\u001b[39;00m exceptions\u001b[39m.\u001b[39mTrialPruned \u001b[39mas\u001b[39;00m e:\n\u001b[0;32m    198\u001b[0m         \u001b[39m# TODO(mamu): Handle multi-objective cases.\u001b[39;00m\n\u001b[0;32m    199\u001b[0m         state \u001b[39m=\u001b[39m TrialState\u001b[39m.\u001b[39mPRUNED\n",
      "\u001b[1;32mc:\\Users\\86189\\Desktop\\大创及项目\\代码\\线性层2to1超参数优化升级版.ipynb Cell 7\u001b[0m in \u001b[0;36mobjective\u001b[1;34m(trial)\u001b[0m\n\u001b[0;32m     <a href='vscode-notebook-cell:/c%3A/Users/86189/Desktop/%E5%A4%A7%E5%88%9B%E5%8F%8A%E9%A1%B9%E7%9B%AE/%E4%BB%A3%E7%A0%81/%E7%BA%BF%E6%80%A7%E5%B1%822to1%E8%B6%85%E5%8F%82%E6%95%B0%E4%BC%98%E5%8C%96%E5%8D%87%E7%BA%A7%E7%89%88.ipynb#W6sZmlsZQ%3D%3D?line=19'>20</a>\u001b[0m     epochs_list\u001b[39m.\u001b[39mappend(e)\n\u001b[0;32m     <a href='vscode-notebook-cell:/c%3A/Users/86189/Desktop/%E5%A4%A7%E5%88%9B%E5%8F%8A%E9%A1%B9%E7%9B%AE/%E4%BB%A3%E7%A0%81/%E7%BA%BF%E6%80%A7%E5%B1%822to1%E8%B6%85%E5%8F%82%E6%95%B0%E4%BC%98%E5%8C%96%E5%8D%87%E7%BA%A7%E7%89%88.ipynb#W6sZmlsZQ%3D%3D?line=20'>21</a>\u001b[0m     net\u001b[39m.\u001b[39mtrain()\n\u001b[1;32m---> <a href='vscode-notebook-cell:/c%3A/Users/86189/Desktop/%E5%A4%A7%E5%88%9B%E5%8F%8A%E9%A1%B9%E7%9B%AE/%E4%BB%A3%E7%A0%81/%E7%BA%BF%E6%80%A7%E5%B1%822to1%E8%B6%85%E5%8F%82%E6%95%B0%E4%BC%98%E5%8C%96%E5%8D%87%E7%BA%A7%E7%89%88.ipynb#W6sZmlsZQ%3D%3D?line=21'>22</a>\u001b[0m     \u001b[39mfor\u001b[39;00m i, (batch_x, batch_y) \u001b[39min\u001b[39;00m \u001b[39menumerate\u001b[39m(loader):\n\u001b[0;32m     <a href='vscode-notebook-cell:/c%3A/Users/86189/Desktop/%E5%A4%A7%E5%88%9B%E5%8F%8A%E9%A1%B9%E7%9B%AE/%E4%BB%A3%E7%A0%81/%E7%BA%BF%E6%80%A7%E5%B1%822to1%E8%B6%85%E5%8F%82%E6%95%B0%E4%BC%98%E5%8C%96%E5%8D%87%E7%BA%A7%E7%89%88.ipynb#W6sZmlsZQ%3D%3D?line=22'>23</a>\u001b[0m         y_hat \u001b[39m=\u001b[39m net(batch_x)\n\u001b[0;32m     <a href='vscode-notebook-cell:/c%3A/Users/86189/Desktop/%E5%A4%A7%E5%88%9B%E5%8F%8A%E9%A1%B9%E7%9B%AE/%E4%BB%A3%E7%A0%81/%E7%BA%BF%E6%80%A7%E5%B1%822to1%E8%B6%85%E5%8F%82%E6%95%B0%E4%BC%98%E5%8C%96%E5%8D%87%E7%BA%A7%E7%89%88.ipynb#W6sZmlsZQ%3D%3D?line=23'>24</a>\u001b[0m \u001b[39m#         print(y_hat.shape)\u001b[39;00m\n",
      "File \u001b[1;32mc:\\Users\\86189\\anaconda3\\envs\\pythonProject\\lib\\site-packages\\torch\\utils\\data\\dataloader.py:681\u001b[0m, in \u001b[0;36m_BaseDataLoaderIter.__next__\u001b[1;34m(self)\u001b[0m\n\u001b[0;32m    678\u001b[0m \u001b[39mif\u001b[39;00m \u001b[39mself\u001b[39m\u001b[39m.\u001b[39m_sampler_iter \u001b[39mis\u001b[39;00m \u001b[39mNone\u001b[39;00m:\n\u001b[0;32m    679\u001b[0m     \u001b[39m# TODO(https://github.com/pytorch/pytorch/issues/76750)\u001b[39;00m\n\u001b[0;32m    680\u001b[0m     \u001b[39mself\u001b[39m\u001b[39m.\u001b[39m_reset()  \u001b[39m# type: ignore[call-arg]\u001b[39;00m\n\u001b[1;32m--> 681\u001b[0m data \u001b[39m=\u001b[39m \u001b[39mself\u001b[39;49m\u001b[39m.\u001b[39;49m_next_data()\n\u001b[0;32m    682\u001b[0m \u001b[39mself\u001b[39m\u001b[39m.\u001b[39m_num_yielded \u001b[39m+\u001b[39m\u001b[39m=\u001b[39m \u001b[39m1\u001b[39m\n\u001b[0;32m    683\u001b[0m \u001b[39mif\u001b[39;00m \u001b[39mself\u001b[39m\u001b[39m.\u001b[39m_dataset_kind \u001b[39m==\u001b[39m _DatasetKind\u001b[39m.\u001b[39mIterable \u001b[39mand\u001b[39;00m \\\n\u001b[0;32m    684\u001b[0m         \u001b[39mself\u001b[39m\u001b[39m.\u001b[39m_IterableDataset_len_called \u001b[39mis\u001b[39;00m \u001b[39mnot\u001b[39;00m \u001b[39mNone\u001b[39;00m \u001b[39mand\u001b[39;00m \\\n\u001b[0;32m    685\u001b[0m         \u001b[39mself\u001b[39m\u001b[39m.\u001b[39m_num_yielded \u001b[39m>\u001b[39m \u001b[39mself\u001b[39m\u001b[39m.\u001b[39m_IterableDataset_len_called:\n",
      "File \u001b[1;32mc:\\Users\\86189\\anaconda3\\envs\\pythonProject\\lib\\site-packages\\torch\\utils\\data\\dataloader.py:721\u001b[0m, in \u001b[0;36m_SingleProcessDataLoaderIter._next_data\u001b[1;34m(self)\u001b[0m\n\u001b[0;32m    719\u001b[0m \u001b[39mdef\u001b[39;00m \u001b[39m_next_data\u001b[39m(\u001b[39mself\u001b[39m):\n\u001b[0;32m    720\u001b[0m     index \u001b[39m=\u001b[39m \u001b[39mself\u001b[39m\u001b[39m.\u001b[39m_next_index()  \u001b[39m# may raise StopIteration\u001b[39;00m\n\u001b[1;32m--> 721\u001b[0m     data \u001b[39m=\u001b[39m \u001b[39mself\u001b[39;49m\u001b[39m.\u001b[39;49m_dataset_fetcher\u001b[39m.\u001b[39;49mfetch(index)  \u001b[39m# may raise StopIteration\u001b[39;00m\n\u001b[0;32m    722\u001b[0m     \u001b[39mif\u001b[39;00m \u001b[39mself\u001b[39m\u001b[39m.\u001b[39m_pin_memory:\n\u001b[0;32m    723\u001b[0m         data \u001b[39m=\u001b[39m _utils\u001b[39m.\u001b[39mpin_memory\u001b[39m.\u001b[39mpin_memory(data, \u001b[39mself\u001b[39m\u001b[39m.\u001b[39m_pin_memory_device)\n",
      "File \u001b[1;32mc:\\Users\\86189\\anaconda3\\envs\\pythonProject\\lib\\site-packages\\torch\\utils\\data\\_utils\\fetch.py:52\u001b[0m, in \u001b[0;36m_MapDatasetFetcher.fetch\u001b[1;34m(self, possibly_batched_index)\u001b[0m\n\u001b[0;32m     50\u001b[0m \u001b[39melse\u001b[39;00m:\n\u001b[0;32m     51\u001b[0m     data \u001b[39m=\u001b[39m \u001b[39mself\u001b[39m\u001b[39m.\u001b[39mdataset[possibly_batched_index]\n\u001b[1;32m---> 52\u001b[0m \u001b[39mreturn\u001b[39;00m \u001b[39mself\u001b[39;49m\u001b[39m.\u001b[39;49mcollate_fn(data)\n",
      "File \u001b[1;32mc:\\Users\\86189\\anaconda3\\envs\\pythonProject\\lib\\site-packages\\torch\\utils\\data\\_utils\\collate.py:175\u001b[0m, in \u001b[0;36mdefault_collate\u001b[1;34m(batch)\u001b[0m\n\u001b[0;32m    172\u001b[0m transposed \u001b[39m=\u001b[39m \u001b[39mlist\u001b[39m(\u001b[39mzip\u001b[39m(\u001b[39m*\u001b[39mbatch))  \u001b[39m# It may be accessed twice, so we use a list.\u001b[39;00m\n\u001b[0;32m    174\u001b[0m \u001b[39mif\u001b[39;00m \u001b[39misinstance\u001b[39m(elem, \u001b[39mtuple\u001b[39m):\n\u001b[1;32m--> 175\u001b[0m     \u001b[39mreturn\u001b[39;00m [default_collate(samples) \u001b[39mfor\u001b[39;00m samples \u001b[39min\u001b[39;00m transposed]  \u001b[39m# Backwards compatibility.\u001b[39;00m\n\u001b[0;32m    176\u001b[0m \u001b[39melse\u001b[39;00m:\n\u001b[0;32m    177\u001b[0m     \u001b[39mtry\u001b[39;00m:\n",
      "File \u001b[1;32mc:\\Users\\86189\\anaconda3\\envs\\pythonProject\\lib\\site-packages\\torch\\utils\\data\\_utils\\collate.py:175\u001b[0m, in \u001b[0;36m<listcomp>\u001b[1;34m(.0)\u001b[0m\n\u001b[0;32m    172\u001b[0m transposed \u001b[39m=\u001b[39m \u001b[39mlist\u001b[39m(\u001b[39mzip\u001b[39m(\u001b[39m*\u001b[39mbatch))  \u001b[39m# It may be accessed twice, so we use a list.\u001b[39;00m\n\u001b[0;32m    174\u001b[0m \u001b[39mif\u001b[39;00m \u001b[39misinstance\u001b[39m(elem, \u001b[39mtuple\u001b[39m):\n\u001b[1;32m--> 175\u001b[0m     \u001b[39mreturn\u001b[39;00m [default_collate(samples) \u001b[39mfor\u001b[39;00m samples \u001b[39min\u001b[39;00m transposed]  \u001b[39m# Backwards compatibility.\u001b[39;00m\n\u001b[0;32m    176\u001b[0m \u001b[39melse\u001b[39;00m:\n\u001b[0;32m    177\u001b[0m     \u001b[39mtry\u001b[39;00m:\n",
      "File \u001b[1;32mc:\\Users\\86189\\anaconda3\\envs\\pythonProject\\lib\\site-packages\\torch\\utils\\data\\_utils\\collate.py:141\u001b[0m, in \u001b[0;36mdefault_collate\u001b[1;34m(batch)\u001b[0m\n\u001b[0;32m    139\u001b[0m         storage \u001b[39m=\u001b[39m elem\u001b[39m.\u001b[39mstorage()\u001b[39m.\u001b[39m_new_shared(numel, device\u001b[39m=\u001b[39melem\u001b[39m.\u001b[39mdevice)\n\u001b[0;32m    140\u001b[0m         out \u001b[39m=\u001b[39m elem\u001b[39m.\u001b[39mnew(storage)\u001b[39m.\u001b[39mresize_(\u001b[39mlen\u001b[39m(batch), \u001b[39m*\u001b[39m\u001b[39mlist\u001b[39m(elem\u001b[39m.\u001b[39msize()))\n\u001b[1;32m--> 141\u001b[0m     \u001b[39mreturn\u001b[39;00m torch\u001b[39m.\u001b[39;49mstack(batch, \u001b[39m0\u001b[39;49m, out\u001b[39m=\u001b[39;49mout)\n\u001b[0;32m    142\u001b[0m \u001b[39melif\u001b[39;00m elem_type\u001b[39m.\u001b[39m\u001b[39m__module__\u001b[39m \u001b[39m==\u001b[39m \u001b[39m'\u001b[39m\u001b[39mnumpy\u001b[39m\u001b[39m'\u001b[39m \u001b[39mand\u001b[39;00m elem_type\u001b[39m.\u001b[39m\u001b[39m__name__\u001b[39m \u001b[39m!=\u001b[39m \u001b[39m'\u001b[39m\u001b[39mstr_\u001b[39m\u001b[39m'\u001b[39m \\\n\u001b[0;32m    143\u001b[0m         \u001b[39mand\u001b[39;00m elem_type\u001b[39m.\u001b[39m\u001b[39m__name__\u001b[39m \u001b[39m!=\u001b[39m \u001b[39m'\u001b[39m\u001b[39mstring_\u001b[39m\u001b[39m'\u001b[39m:\n\u001b[0;32m    144\u001b[0m     \u001b[39mif\u001b[39;00m elem_type\u001b[39m.\u001b[39m\u001b[39m__name__\u001b[39m \u001b[39m==\u001b[39m \u001b[39m'\u001b[39m\u001b[39mndarray\u001b[39m\u001b[39m'\u001b[39m \u001b[39mor\u001b[39;00m elem_type\u001b[39m.\u001b[39m\u001b[39m__name__\u001b[39m \u001b[39m==\u001b[39m \u001b[39m'\u001b[39m\u001b[39mmemmap\u001b[39m\u001b[39m'\u001b[39m:\n\u001b[0;32m    145\u001b[0m         \u001b[39m# array of string classes and object\u001b[39;00m\n",
      "\u001b[1;31mKeyboardInterrupt\u001b[0m: "
     ]
    }
   ],
   "source": [
    "study = optuna.create_study(direction='minimize')\n",
    "study.optimize(objective, n_trials=20)\n"
   ]
  },
  {
   "cell_type": "code",
   "execution_count": 8,
   "metadata": {},
   "outputs": [
    {
     "ename": "ValueError",
     "evalue": "No trials are completed yet.",
     "output_type": "error",
     "traceback": [
      "\u001b[1;31m---------------------------------------------------------------------------\u001b[0m",
      "\u001b[1;31mValueError\u001b[0m                                Traceback (most recent call last)",
      "\u001b[1;32mc:\\Users\\86189\\Desktop\\大创及项目\\代码\\线性层2to1超参数优化升级版.ipynb Cell 8\u001b[0m in \u001b[0;36m<cell line: 1>\u001b[1;34m()\u001b[0m\n\u001b[1;32m----> <a href='vscode-notebook-cell:/c%3A/Users/86189/Desktop/%E5%A4%A7%E5%88%9B%E5%8F%8A%E9%A1%B9%E7%9B%AE/%E4%BB%A3%E7%A0%81/%E7%BA%BF%E6%80%A7%E5%B1%822to1%E8%B6%85%E5%8F%82%E6%95%B0%E4%BC%98%E5%8C%96%E5%8D%87%E7%BA%A7%E7%89%88.ipynb#X10sZmlsZQ%3D%3D?line=0'>1</a>\u001b[0m trial \u001b[39m=\u001b[39m study\u001b[39m.\u001b[39;49mbest_trial\n\u001b[0;32m      <a href='vscode-notebook-cell:/c%3A/Users/86189/Desktop/%E5%A4%A7%E5%88%9B%E5%8F%8A%E9%A1%B9%E7%9B%AE/%E4%BB%A3%E7%A0%81/%E7%BA%BF%E6%80%A7%E5%B1%822to1%E8%B6%85%E5%8F%82%E6%95%B0%E4%BC%98%E5%8C%96%E5%8D%87%E7%BA%A7%E7%89%88.ipynb#X10sZmlsZQ%3D%3D?line=1'>2</a>\u001b[0m \u001b[39mprint\u001b[39m(\u001b[39m'\u001b[39m\u001b[39mAccuracy: \u001b[39m\u001b[39m{}\u001b[39;00m\u001b[39m'\u001b[39m\u001b[39m.\u001b[39mformat(trial\u001b[39m.\u001b[39mvalue))\n\u001b[0;32m      <a href='vscode-notebook-cell:/c%3A/Users/86189/Desktop/%E5%A4%A7%E5%88%9B%E5%8F%8A%E9%A1%B9%E7%9B%AE/%E4%BB%A3%E7%A0%81/%E7%BA%BF%E6%80%A7%E5%B1%822to1%E8%B6%85%E5%8F%82%E6%95%B0%E4%BC%98%E5%8C%96%E5%8D%87%E7%BA%A7%E7%89%88.ipynb#X10sZmlsZQ%3D%3D?line=2'>3</a>\u001b[0m \u001b[39mprint\u001b[39m(\u001b[39m\"\u001b[39m\u001b[39mBest hyperparameters: \u001b[39m\u001b[39m{}\u001b[39;00m\u001b[39m\"\u001b[39m\u001b[39m.\u001b[39mformat(trial\u001b[39m.\u001b[39mparams))\n",
      "File \u001b[1;32mc:\\Users\\86189\\anaconda3\\envs\\pythonProject\\lib\\site-packages\\optuna\\study\\study.py:154\u001b[0m, in \u001b[0;36mStudy.best_trial\u001b[1;34m(self)\u001b[0m\n\u001b[0;32m    148\u001b[0m \u001b[39mif\u001b[39;00m \u001b[39mself\u001b[39m\u001b[39m.\u001b[39m_is_multi_objective():\n\u001b[0;32m    149\u001b[0m     \u001b[39mraise\u001b[39;00m \u001b[39mRuntimeError\u001b[39;00m(\n\u001b[0;32m    150\u001b[0m         \u001b[39m\"\u001b[39m\u001b[39mA single best trial cannot be retrieved from a multi-objective study. Consider \u001b[39m\u001b[39m\"\u001b[39m\n\u001b[0;32m    151\u001b[0m         \u001b[39m\"\u001b[39m\u001b[39musing Study.best_trials to retrieve a list containing the best trials.\u001b[39m\u001b[39m\"\u001b[39m\n\u001b[0;32m    152\u001b[0m     )\n\u001b[1;32m--> 154\u001b[0m \u001b[39mreturn\u001b[39;00m copy\u001b[39m.\u001b[39mdeepcopy(\u001b[39mself\u001b[39;49m\u001b[39m.\u001b[39;49m_storage\u001b[39m.\u001b[39;49mget_best_trial(\u001b[39mself\u001b[39;49m\u001b[39m.\u001b[39;49m_study_id))\n",
      "File \u001b[1;32mc:\\Users\\86189\\anaconda3\\envs\\pythonProject\\lib\\site-packages\\optuna\\storages\\_in_memory.py:262\u001b[0m, in \u001b[0;36mInMemoryStorage.get_best_trial\u001b[1;34m(self, study_id)\u001b[0m\n\u001b[0;32m    260\u001b[0m best_trial_id \u001b[39m=\u001b[39m \u001b[39mself\u001b[39m\u001b[39m.\u001b[39m_studies[study_id]\u001b[39m.\u001b[39mbest_trial_id\n\u001b[0;32m    261\u001b[0m \u001b[39mif\u001b[39;00m best_trial_id \u001b[39mis\u001b[39;00m \u001b[39mNone\u001b[39;00m:\n\u001b[1;32m--> 262\u001b[0m     \u001b[39mraise\u001b[39;00m \u001b[39mValueError\u001b[39;00m(\u001b[39m\"\u001b[39m\u001b[39mNo trials are completed yet.\u001b[39m\u001b[39m\"\u001b[39m)\n\u001b[0;32m    263\u001b[0m \u001b[39melif\u001b[39;00m \u001b[39mlen\u001b[39m(\u001b[39mself\u001b[39m\u001b[39m.\u001b[39m_studies[study_id]\u001b[39m.\u001b[39mdirections) \u001b[39m>\u001b[39m \u001b[39m1\u001b[39m:\n\u001b[0;32m    264\u001b[0m     \u001b[39mraise\u001b[39;00m \u001b[39mRuntimeError\u001b[39;00m(\n\u001b[0;32m    265\u001b[0m         \u001b[39m\"\u001b[39m\u001b[39mBest trial can be obtained only for single-objective optimization.\u001b[39m\u001b[39m\"\u001b[39m\n\u001b[0;32m    266\u001b[0m     )\n",
      "\u001b[1;31mValueError\u001b[0m: No trials are completed yet."
     ]
    }
   ],
   "source": [
    "\n",
    "trial = study.best_trial\n",
    "print('Accuracy: {}'.format(trial.value))\n",
    "print(\"Best hyperparameters: {}\".format(trial.params))"
   ]
  },
  {
   "cell_type": "code",
   "execution_count": null,
   "metadata": {},
   "outputs": [],
   "source": [
    "import csv\n",
    "trial={'batch_size': 10, 'fc1_out': 48, 'fc2_out': 8, 'fc3_out': 24, 'activefunct': 'relu', 'optimizer': 'RMSprop', 'lr': 0.00040792019515367977, 'weight_decay': 0.0010319587736834876}\n",
    "with open('best_param.csv', 'a',newline='') as f:  \n",
    "    writer = csv.writer(f)\n",
    "    writer.writerow(['', ''])\n",
    "    for k, v in trial.items():\n",
    "        writer.writerow([k, v])"
   ]
  },
  {
   "cell_type": "code",
   "execution_count": null,
   "metadata": {},
   "outputs": [],
   "source": []
  },
  {
   "cell_type": "code",
   "execution_count": 4,
   "metadata": {},
   "outputs": [
    {
     "ename": "NameError",
     "evalue": "name 'ss1' is not defined",
     "output_type": "error",
     "traceback": [
      "\u001b[1;31m---------------------------------------------------------------------------\u001b[0m",
      "\u001b[1;31mNameError\u001b[0m                                 Traceback (most recent call last)",
      "\u001b[1;32mc:\\Users\\86189\\Desktop\\大创及项目\\代码\\线性层2to1超参数优化升级版.ipynb Cell 10\u001b[0m in \u001b[0;36m<cell line: 5>\u001b[1;34m()\u001b[0m\n\u001b[0;32m      <a href='vscode-notebook-cell:/c%3A/Users/86189/Desktop/%E5%A4%A7%E5%88%9B%E5%8F%8A%E9%A1%B9%E7%9B%AE/%E4%BB%A3%E7%A0%81/%E7%BA%BF%E6%80%A7%E5%B1%822to1%E8%B6%85%E5%8F%82%E6%95%B0%E4%BC%98%E5%8C%96%E5%8D%87%E7%BA%A7%E7%89%88.ipynb#X12sZmlsZQ%3D%3D?line=1'>2</a>\u001b[0m valid_data_target\u001b[39m=\u001b[39mvalid_data[:,[\u001b[39m0\u001b[39m,\u001b[39m2\u001b[39m]]\n\u001b[0;32m      <a href='vscode-notebook-cell:/c%3A/Users/86189/Desktop/%E5%A4%A7%E5%88%9B%E5%8F%8A%E9%A1%B9%E7%9B%AE/%E4%BB%A3%E7%A0%81/%E7%BA%BF%E6%80%A7%E5%B1%822to1%E8%B6%85%E5%8F%82%E6%95%B0%E4%BC%98%E5%8C%96%E5%8D%87%E7%BA%A7%E7%89%88.ipynb#X12sZmlsZQ%3D%3D?line=2'>3</a>\u001b[0m valid_data_y\u001b[39m=\u001b[39mvalid_data[:,\u001b[39m1\u001b[39m]\n\u001b[1;32m----> <a href='vscode-notebook-cell:/c%3A/Users/86189/Desktop/%E5%A4%A7%E5%88%9B%E5%8F%8A%E9%A1%B9%E7%9B%AE/%E4%BB%A3%E7%A0%81/%E7%BA%BF%E6%80%A7%E5%B1%822to1%E8%B6%85%E5%8F%82%E6%95%B0%E4%BC%98%E5%8C%96%E5%8D%87%E7%BA%A7%E7%89%88.ipynb#X12sZmlsZQ%3D%3D?line=4'>5</a>\u001b[0m x_valid\u001b[39m=\u001b[39mss1\u001b[39m.\u001b[39mtransform(valid_data_target)\n\u001b[0;32m      <a href='vscode-notebook-cell:/c%3A/Users/86189/Desktop/%E5%A4%A7%E5%88%9B%E5%8F%8A%E9%A1%B9%E7%9B%AE/%E4%BB%A3%E7%A0%81/%E7%BA%BF%E6%80%A7%E5%B1%822to1%E8%B6%85%E5%8F%82%E6%95%B0%E4%BC%98%E5%8C%96%E5%8D%87%E7%BA%A7%E7%89%88.ipynb#X12sZmlsZQ%3D%3D?line=5'>6</a>\u001b[0m x_valid \u001b[39m=\u001b[39m torch\u001b[39m.\u001b[39mfrom_numpy(x_valid)\u001b[39m.\u001b[39mfloat()\n\u001b[0;32m      <a href='vscode-notebook-cell:/c%3A/Users/86189/Desktop/%E5%A4%A7%E5%88%9B%E5%8F%8A%E9%A1%B9%E7%9B%AE/%E4%BB%A3%E7%A0%81/%E7%BA%BF%E6%80%A7%E5%B1%822to1%E8%B6%85%E5%8F%82%E6%95%B0%E4%BC%98%E5%8C%96%E5%8D%87%E7%BA%A7%E7%89%88.ipynb#X12sZmlsZQ%3D%3D?line=7'>8</a>\u001b[0m y_valid \u001b[39m=\u001b[39m torch\u001b[39m.\u001b[39mfrom_numpy(valid_data_y)\u001b[39m.\u001b[39mfloat()\u001b[39m.\u001b[39mview(\u001b[39m-\u001b[39m\u001b[39m1\u001b[39m,\u001b[39m1\u001b[39m)\n",
      "\u001b[1;31mNameError\u001b[0m: name 'ss1' is not defined"
     ]
    }
   ],
   "source": [
    "\n",
    "valid_data=pd.read_csv('./data/test_data_3.csv').values\n",
    "valid_data_target=valid_data[:,[0,2]]\n",
    "valid_data_y=valid_data[:,1]\n",
    "\n",
    "x_valid=ss1.transform(valid_data_target)\n",
    "x_valid = torch.from_numpy(x_valid).float()\n",
    "\n",
    "y_valid = torch.from_numpy(valid_data_y).float().view(-1,1)\n",
    "y_valid=(y_valid-y_mean)/y_std\n"
   ]
  },
  {
   "cell_type": "code",
   "execution_count": null,
   "metadata": {},
   "outputs": [],
   "source": [
    "\n",
    "import matplotlib.pyplot as plt\n",
    "def valid(trial):\n",
    "    \n",
    "    torch_dataset = Data.TensorDataset(x_train, y_train) \n",
    "    batch_size = trial.suggest_int(\"batch_size\", 1, 16)\n",
    "    loader = Data.DataLoader(dataset=torch_dataset,batch_size=batch_size,shuffle=True) \n",
    "    \n",
    "    net=LR(trial)\n",
    "    criterion = nn.MSELoss()\n",
    "    optimizer_name = trial.suggest_categorical(\"optimizer\", [\"Adam\", \"Adadelta\",\"Adagrad\",\"RMSprop\"])\n",
    "    lr = trial.suggest_float(\"lr\", 1e-5, 1e-1,log=True)\n",
    "    weight_decay=trial.suggest_float(\"weight_decay\",1e-3,1e-1,log=True)\n",
    "    optimizer = getattr(optim, optimizer_name)(net.parameters(), lr=lr,weight_decay=weight_decay) \n",
    "\n",
    "    epochs_list=[]\n",
    "    train_loss_list=[]\n",
    "    test_error_list=[]\n",
    "    valid_error_list=[]\n",
    "    for e in range(epochs):\n",
    "        epochs_list.append(e)\n",
    "        net.train()\n",
    "        for i, (batch_x, batch_y) in enumerate(loader):\n",
    "            y_hat = net(batch_x)\n",
    "    #         print(y_hat.shape)\n",
    "            \n",
    "            loss = criterion(y_hat, batch_y)\n",
    "            optimizer.zero_grad()\n",
    "            loss.backward()\n",
    "            optimizer.step()\n",
    "\n",
    "        net.eval()\n",
    "        with torch.no_grad():\n",
    "            y_pred_train= net(x_train)\n",
    "            loss = criterion(y_pred_train, y_train)\n",
    "            train_loss_list.append(loss.item())\n",
    "            \n",
    "            y_pred_test = net(x_test)\n",
    "            test_error = criterion(y_pred_test, y_test)\n",
    "            test_error_list.append(test_error.item())\n",
    "\n",
    "            y_pred_valid=net(x_valid)\n",
    "            valid_error = criterion(y_pred_valid, y_valid)\n",
    "            valid_error_list.append(valid_error.item())\n",
    "\n",
    "            if (e+1)%50==0:\n",
    "                print(\"Epoch:{}, trainLoss:{}，testLoss:{},ValidLoss:{}\".format(e+1,loss.item(),test_error.item(),valid_error.item()))\n",
    "    \n",
    "    plt.figure()\n",
    "    plt.xlabel(\"Training epochs\")\n",
    "    plt.ylabel(\"error\")\n",
    "    plt.grid()\n",
    "    plt.plot(epochs_list, train_loss_list, '.-', color=\"r\",\n",
    "                    label=\"train_loss\")\n",
    "    plt.plot(epochs_list, test_error_list, '.-', color=\"g\",\n",
    "                    label=\"test_error\")\n",
    "    plt.plot(epochs_list, valid_error_list, '.-', color=\"b\",\n",
    "                    label=\"valid_error\")\n",
    "    plt.legend(loc=\"best\")\n",
    "    \n",
    "    net.eval()\n",
    "    y_pred=net(x_total)\n",
    "    y_pred=y_pred.data.numpy()\n",
    "    y_pred=y_pred*y_std+y_mean\n",
    "\n",
    "    y_pred_valid=net(x_valid)\n",
    "    y_pred_valid=y_pred_valid.data.numpy()\n",
    "    y_pred_valid=y_pred_valid*y_std+y_mean\n",
    "\n",
    "    x_axis=data.iloc[:,0].values\n",
    "\n",
    "    plt.figure(figsize=(15,8))\n",
    "    plt.scatter(x_axis,y_pred,s=50,c=\"b\",label='train_pred')\n",
    "    plt.scatter(x_axis,y,s=50,c=\"g\",label='train')\n",
    "\n",
    "    x_axis_valid=valid_data[:,0]\n",
    "    plt.scatter(x_axis_valid,y_pred_valid,s=50,c=\"c\",label='valid_pred')\n",
    "    plt.scatter(x_axis_valid,valid_data_y,s=50,c=\"r\",label='valid')\n",
    "    plt.grid()\n",
    "    plt.legend()\n",
    "    plt.xlim(0,2)\n",
    "    plt.ylim(-13,-4)\n",
    "    return None"
   ]
  },
  {
   "cell_type": "code",
   "execution_count": null,
   "metadata": {},
   "outputs": [
    {
     "name": "stdout",
     "output_type": "stream",
     "text": [
      "Epoch:50, trainLoss:0.06392897665500641，testLoss:0.0427309051156044,ValidLoss:0.057707011699676514\n",
      "Epoch:100, trainLoss:0.027719439938664436，testLoss:0.017960907891392708,ValidLoss:0.062258221209049225\n",
      "Epoch:150, trainLoss:0.023789653554558754，testLoss:0.012946924194693565,ValidLoss:0.03588965907692909\n",
      "Epoch:200, trainLoss:0.021886276081204414，testLoss:0.01056702621281147,ValidLoss:0.028443895280361176\n",
      "Epoch:250, trainLoss:0.03405964747071266，testLoss:0.01762649044394493,ValidLoss:0.019574405625462532\n",
      "Epoch:300, trainLoss:0.026045531034469604，testLoss:0.018042825162410736,ValidLoss:0.026756253093481064\n",
      "Epoch:350, trainLoss:0.02124197594821453，testLoss:0.011966122314333916,ValidLoss:0.021037917584180832\n",
      "Epoch:400, trainLoss:0.019600598141551018，testLoss:0.010442105121910572,ValidLoss:0.02110947296023369\n",
      "Epoch:450, trainLoss:0.020092081278562546，testLoss:0.009237616322934628,ValidLoss:0.022596288472414017\n",
      "Epoch:500, trainLoss:0.019500980153679848，testLoss:0.008479228243231773,ValidLoss:0.015692150220274925\n",
      "Epoch:550, trainLoss:0.020088711753487587，testLoss:0.012106048874557018,ValidLoss:0.020510083064436913\n",
      "Epoch:600, trainLoss:0.017768681049346924，testLoss:0.009073520079255104,ValidLoss:0.01916523277759552\n",
      "Epoch:650, trainLoss:0.017218995839357376，testLoss:0.007541923318058252,ValidLoss:0.01940344087779522\n",
      "Epoch:700, trainLoss:0.05163821950554848，testLoss:0.04228724166750908,ValidLoss:0.049775782972574234\n",
      "Epoch:750, trainLoss:0.016447149217128754，testLoss:0.0069311498664319515,ValidLoss:0.015301079489290714\n",
      "Epoch:800, trainLoss:0.02315848134458065，testLoss:0.01740233600139618,ValidLoss:0.022255372256040573\n",
      "Epoch:850, trainLoss:0.0170852430164814，testLoss:0.00879707932472229,ValidLoss:0.016423461958765984\n",
      "Epoch:900, trainLoss:0.020694119855761528，testLoss:0.012659674510359764,ValidLoss:0.017028549686074257\n",
      "Epoch:950, trainLoss:0.015444010496139526，testLoss:0.007010181900113821,ValidLoss:0.015900325030088425\n",
      "Epoch:1000, trainLoss:0.016540948301553726，testLoss:0.009617229923605919,ValidLoss:0.01610126905143261\n"
     ]
    },
    {
     "data": {
      "image/png": "[encoded data removed]",
      "text/plain": [
       "<Figure size 432x288 with 1 Axes>"
      ]
     },
     "metadata": {
      "needs_background": "light"
     },
     "output_type": "display_data"
    },
    {
     "data": {
      "image/png": "[encoded data removed]",
      "text/plain": [
       "<Figure size 1080x576 with 1 Axes>"
      ]
     },
     "metadata": {
      "needs_background": "light"
     },
     "output_type": "display_data"
    }
   ],
   "source": [
    "valid(trial)"
   ]
  },
  {
   "cell_type": "code",
   "execution_count": null,
   "metadata": {},
   "outputs": [],
   "source": []
  },
  {
   "cell_type": "code",
   "execution_count": null,
   "metadata": {},
   "outputs": [],
   "source": []
  }
 ],
 "metadata": {
  "kernelspec": {
   "display_name": "Python 3.10.4 ('pythonProject')",
   "language": "python",
   "name": "python3"
  },
  "language_info": {
   "codemirror_mode": {
    "name": "ipython",
    "version": 3
   },
   "file_extension": ".py",
   "mimetype": "text/x-python",
   "name": "python",
   "nbconvert_exporter": "python",
   "pygments_lexer": "ipython3",
   "version": "3.10.4"
  },
  "orig_nbformat": 4,
  "vscode": {
   "interpreter": {
    "hash": "031490cb4fb8a925db20958c57cafe119126066026c78a34d7b5ac309ed8eb51"
   }
  }
 },
 "nbformat": 4,
 "nbformat_minor": 2
}
