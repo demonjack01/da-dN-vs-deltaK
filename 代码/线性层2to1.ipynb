{
 "cells": [
  {
   "cell_type": "code",
   "execution_count": 2,
   "metadata": {},
   "outputs": [],
   "source": [
    "import numpy as np\n",
    "import torch\n",
    "import torch.nn as nn\n",
    "import pandas as pd\n",
    "from sklearn.model_selection import train_test_split\n",
    "from sklearn import preprocessing\n",
    "import torch.utils.data as Data"
   ]
  },
  {
   "cell_type": "code",
   "execution_count": 3,
   "metadata": {},
   "outputs": [],
   "source": [
    "import pandas_profiling as ppf\n",
    "data = pd.read_csv('train_data.csv')\n",
    "# ppf.ProfileReport(data)"
   ]
  },
  {
   "cell_type": "code",
   "execution_count": 4,
   "metadata": {},
   "outputs": [
    {
     "data": {
      "text/plain": [
       "tensor([[-1.1330,  0.7382],\n",
       "        [-0.4298,  0.3182],\n",
       "        [ 0.6466, -1.3619],\n",
       "        [ 0.5165,  0.7382],\n",
       "        [-0.4920,  0.3182],\n",
       "        [ 0.4015, -1.3619],\n",
       "        [-0.7899,  0.3182],\n",
       "        [-1.1971,  0.7382],\n",
       "        [ 0.2074, -1.3619],\n",
       "        [-0.5241,  0.3182],\n",
       "        [-1.8550,  1.1582],\n",
       "        [ 1.7287, -1.3619],\n",
       "        [ 0.1018,  0.3182],\n",
       "        [-0.9388,  1.1582],\n",
       "        [ 0.0924, -1.3619],\n",
       "        [-0.5655,  0.7382],\n",
       "        [ 1.2894, -1.3619],\n",
       "        [ 0.4468,  0.3182],\n",
       "        [-1.9323,  1.1582],\n",
       "        [-0.6956,  0.3182],\n",
       "        [-0.0226,  0.3182],\n",
       "        [ 0.9803, -1.3619],\n",
       "        [-0.7069,  0.7382],\n",
       "        [ 1.3799, -1.3619],\n",
       "        [ 0.0924, -1.3619],\n",
       "        [ 0.6183,  0.3182],\n",
       "        [-1.2367,  0.7382],\n",
       "        [ 1.3026, -1.3619],\n",
       "        [ 0.1188,  0.3182],\n",
       "        [-1.3385,  1.1582],\n",
       "        [-1.5703,  1.1582],\n",
       "        [ 0.3205,  0.3182],\n",
       "        [ 0.0924,  0.7382],\n",
       "        [ 1.7664, -1.3619],\n",
       "        [-1.0293,  1.1582],\n",
       "        [ 1.9097, -1.3619],\n",
       "        [-0.6956,  0.3182],\n",
       "        [ 2.0001, -1.3619],\n",
       "        [-0.4242,  0.7382],\n",
       "        [ 1.5873, -1.3619],\n",
       "        [ 0.3883,  0.7382],\n",
       "        [-0.8106,  1.1582],\n",
       "        [ 0.4524, -1.3619],\n",
       "        [-0.6296,  1.1582],\n",
       "        [-1.3780,  0.7382],\n",
       "        [-0.0754,  0.7382],\n",
       "        [-0.8050,  0.3182],\n",
       "        [-0.9916,  0.7382],\n",
       "        [ 0.5806, -1.3619],\n",
       "        [ 1.5873, -1.3619],\n",
       "        [-0.5392,  0.7382],\n",
       "        [ 1.7928, -1.3619],\n",
       "        [-0.2884,  0.3182],\n",
       "        [ 1.2894, -1.3619],\n",
       "        [ 0.5693, -1.3619],\n",
       "        [-1.2367,  1.1582],\n",
       "        [-1.7136,  1.1582],\n",
       "        [ 1.1104, -1.3619],\n",
       "        [ 0.3374,  0.3182],\n",
       "        [ 0.0396,  1.1582],\n",
       "        [ 0.1433,  0.7382],\n",
       "        [-1.0557,  0.7382],\n",
       "        [ 0.2583, -1.3619],\n",
       "        [ 0.4015,  0.7382],\n",
       "        [-0.0848,  0.3182],\n",
       "        [ 0.6353,  0.3182]])"
      ]
     },
     "execution_count": 4,
     "metadata": {},
     "output_type": "execute_result"
    }
   ],
   "source": [
    "\n",
    "\n",
    "# 分割训练集和测试集\n",
    "x = data.iloc[:, [0,2]].values\n",
    "y = data.iloc[:, 1].values\n",
    "x_train, x_test, y_train, y_test = train_test_split(x, y, test_size=0.2)\n",
    "\n",
    "# 数据标准化\n",
    "ss1 = preprocessing.StandardScaler()\n",
    "x_train = ss1.fit_transform(x_train)\n",
    "x_test = ss1.transform(x_test)\n",
    "x_total=ss1.transform(x)\n",
    "\n",
    "\n",
    "y_mean = y_train.mean()\n",
    "y_std = y_train.std()\n",
    "y_train = (y_train-y_mean)/y_std\n",
    "y_test=(y_test-y_mean)/y_std\n",
    "\n",
    "# numpy转tensor\n",
    "x_train = torch.from_numpy(x_train).float()\n",
    "y_train = torch.from_numpy(y_train).float().view(-1,1)\n",
    "x_test = torch.from_numpy(x_test).float()\n",
    "y_test = torch.from_numpy(y_test).float().view(-1,1)\n",
    "x_total=torch.from_numpy(x_total).float()\n",
    "\n",
    "# batch_size = 64\n",
    "torch_dataset = Data.TensorDataset(x_train, y_train) \n",
    "loader = Data.DataLoader(dataset=torch_dataset,batch_size=16,\n",
    "            shuffle=True) \n",
    "\n",
    "# print(next(iter(loader)))\n",
    "\n",
    "x_train\n"
   ]
  },
  {
   "cell_type": "code",
   "execution_count": 5,
   "metadata": {},
   "outputs": [],
   "source": [
    "class LR(nn.Module):\n",
    "\n",
    "    def __init__(self):\n",
    "        super(LR, self).__init__()\n",
    "        self.fc1 = nn.Linear(2, 32)\n",
    "        self.fc2 = nn.Linear(32, 16)\n",
    "        self.fc3 = nn.Linear(16, 1)\n",
    "\n",
    "    def forward(self, x):\n",
    "        x = torch.relu(self.fc1(x))\n",
    "        x = torch.relu(self.fc2(x))\n",
    "        x = self.fc3(x)\n",
    "        return x"
   ]
  },
  {
   "cell_type": "code",
   "execution_count": 6,
   "metadata": {},
   "outputs": [],
   "source": [
    "import torch.optim.lr_scheduler as lr_scheduler\n",
    "# 模型初始化\n",
    "net = LR()\n",
    "criterion = nn.MSELoss()\n",
    "optm = torch.optim.Adam(net.parameters(), lr=0.001,weight_decay=0.01)\n",
    "scheduler = lr_scheduler.MultiStepLR(optm, milestones=[100,500,1000,1500], gamma=0.1)\n",
    "\n",
    "epochs = 2000\n"
   ]
  },
  {
   "cell_type": "code",
   "execution_count": 7,
   "metadata": {},
   "outputs": [
    {
     "name": "stdout",
     "output_type": "stream",
     "text": [
      "Epoch:50, trainLoss:0.21323858201503754，testLoss:0.2957354187965393\n",
      "Epoch:100, trainLoss:0.1481904685497284，testLoss:0.28941744565963745\n",
      "Epoch:150, trainLoss:0.11545807868242264，testLoss:0.2611435651779175\n",
      "Epoch:200, trainLoss:0.10195166617631912，testLoss:0.2571793794631958\n",
      "Epoch:250, trainLoss:0.08460894972085953，testLoss:0.24383392930030823\n",
      "Epoch:300, trainLoss:0.07945438474416733，testLoss:0.24925699830055237\n",
      "Epoch:350, trainLoss:0.07723801583051682，testLoss:0.235481858253479\n",
      "Epoch:400, trainLoss:0.07468324154615402，testLoss:0.24519802629947662\n",
      "Epoch:450, trainLoss:0.06819891184568405，testLoss:0.2235872596502304\n",
      "Epoch:500, trainLoss:0.06564706563949585，testLoss:0.23546263575553894\n",
      "Epoch:550, trainLoss:0.07054958492517471，testLoss:0.2562001645565033\n",
      "Epoch:600, trainLoss:0.06395106017589569，testLoss:0.22205114364624023\n",
      "Epoch:650, trainLoss:0.06104646995663643，testLoss:0.22973334789276123\n",
      "Epoch:700, trainLoss:0.0632961094379425，testLoss:0.22391802072525024\n",
      "Epoch:750, trainLoss:0.062260258942842484，testLoss:0.230796679854393\n",
      "Epoch:800, trainLoss:0.06283286958932877，testLoss:0.2509038746356964\n",
      "Epoch:850, trainLoss:0.0603240430355072，testLoss:0.22948789596557617\n",
      "Epoch:900, trainLoss:0.05923295021057129，testLoss:0.23014093935489655\n",
      "Epoch:950, trainLoss:0.05891268327832222，testLoss:0.22720162570476532\n",
      "Epoch:1000, trainLoss:0.058923061937093735，testLoss:0.22601310908794403\n",
      "Epoch:1050, trainLoss:0.06425787508487701，testLoss:0.23185954988002777\n",
      "Epoch:1100, trainLoss:0.0632745772600174，testLoss:0.23208464682102203\n",
      "Epoch:1150, trainLoss:0.057236362248659134，testLoss:0.23161184787750244\n",
      "Epoch:1200, trainLoss:0.059942957013845444，testLoss:0.2355382889509201\n",
      "Epoch:1250, trainLoss:0.05721309036016464，testLoss:0.2272888422012329\n",
      "Epoch:1300, trainLoss:0.06047966703772545，testLoss:0.2405555695295334\n",
      "Epoch:1350, trainLoss:0.06376012414693832，testLoss:0.228983536362648\n",
      "Epoch:1400, trainLoss:0.055150460451841354，testLoss:0.22912846505641937\n",
      "Epoch:1450, trainLoss:0.05485185980796814，testLoss:0.22603242099285126\n",
      "Epoch:1500, trainLoss:0.05633033812046051，testLoss:0.2324485182762146\n",
      "Epoch:1550, trainLoss:0.05694877356290817，testLoss:0.23389771580696106\n",
      "Epoch:1600, trainLoss:0.05308084189891815，testLoss:0.2330501824617386\n",
      "Epoch:1650, trainLoss:0.05701068416237831，testLoss:0.23700885474681854\n",
      "Epoch:1700, trainLoss:0.05923103168606758，testLoss:0.2375410795211792\n",
      "Epoch:1750, trainLoss:0.05750833824276924，testLoss:0.23436987400054932\n",
      "Epoch:1800, trainLoss:0.052514418959617615，testLoss:0.2272542119026184\n",
      "Epoch:1850, trainLoss:0.05586044490337372，testLoss:0.25529855489730835\n",
      "Epoch:1900, trainLoss:0.05457070842385292，testLoss:0.24361591041088104\n",
      "Epoch:1950, trainLoss:0.05170145258307457，testLoss:0.23224830627441406\n",
      "Epoch:2000, trainLoss:0.057674914598464966，testLoss:0.2334553748369217\n"
     ]
    }
   ],
   "source": [
    "epochs_list=[]\n",
    "train_loss_list=[]\n",
    "test_error_list=[]\n",
    "for e in range(epochs):\n",
    "    epochs_list.append(e)\n",
    "    for i, (batch_x, batch_y) in enumerate(loader):\n",
    "        y_hat = net(batch_x)\n",
    "#         print(y_hat.shape)\n",
    "        \n",
    "        loss = criterion(y_hat, batch_y)\n",
    "        optm.zero_grad()\n",
    "        loss.backward()\n",
    "        optm.step()\n",
    "    \n",
    "    y_pred_train= net(x_train)\n",
    "    loss = criterion(y_pred_train, y_train)\n",
    "    train_loss_list.append(loss.item())\n",
    "    \n",
    "    net.eval()\n",
    "    y_pred_test = net(x_test)\n",
    "    error = criterion(y_pred_test, y_test)\n",
    "    test_error_list.append(error.item())\n",
    "    if (e+1)%50==0:\n",
    "        print(\"Epoch:{}, trainLoss:{}，testLoss:{}\".format(e+1,loss.item(),error.item()))\n",
    "    "
   ]
  },
  {
   "cell_type": "code",
   "execution_count": null,
   "metadata": {},
   "outputs": [],
   "source": []
  },
  {
   "cell_type": "code",
   "execution_count": 8,
   "metadata": {},
   "outputs": [
    {
     "data": {
      "text/plain": [
       "<matplotlib.legend.Legend at 0x228b1c306d0>"
      ]
     },
     "execution_count": 8,
     "metadata": {},
     "output_type": "execute_result"
    },
    {
     "data": {
      "image/png": "[encoded data removed]",
      "text/plain": [
       "<Figure size 432x288 with 1 Axes>"
      ]
     },
     "metadata": {
      "needs_background": "light"
     },
     "output_type": "display_data"
    }
   ],
   "source": [
    "import matplotlib.pyplot as plt\n",
    "plt.figure()\n",
    "plt.xlabel(\"Training epochs\")\n",
    "plt.ylabel(\"error\")\n",
    "plt.grid()\n",
    "plt.plot(epochs_list, train_loss_list, '.-', color=\"r\",\n",
    "                label=\"train_loss_\")\n",
    "plt.plot(epochs_list, test_error_list, '.-', color=\"g\",\n",
    "                label=\"test_error\")\n",
    "\n",
    "plt.legend(loc=\"best\")\n"
   ]
  },
  {
   "cell_type": "code",
   "execution_count": 9,
   "metadata": {},
   "outputs": [
    {
     "data": {
      "text/plain": [
       "array([-12.41027374, -12.42054339, -10.58527999, -10.40483445,\n",
       "       -10.22438893, -10.21411966, -10.10409191, -10.10409191,\n",
       "        -9.99259711,  -9.92217934,  -9.81215158,  -9.62143679,\n",
       "        -9.61116754,  -9.61116754,  -9.50113978,  -9.31042499,\n",
       "        -9.270815  ,  -9.20039723,  -9.09036947,  -8.99941318,\n",
       "        -8.88938543,  -8.8086984 ,  -8.67959916,  -8.48888437,\n",
       "        -8.52849437,  -8.31724107])"
      ]
     },
     "execution_count": 9,
     "metadata": {},
     "output_type": "execute_result"
    }
   ],
   "source": [
    "valid_data=pd.read_csv('test_data.csv').values\n",
    "valid_data_target=valid_data[:,[0,2]]\n",
    "valid_data_y=valid_data[:,1]\n",
    "valid_data_y"
   ]
  },
  {
   "cell_type": "code",
   "execution_count": null,
   "metadata": {},
   "outputs": [],
   "source": []
  },
  {
   "cell_type": "code",
   "execution_count": 10,
   "metadata": {},
   "outputs": [
    {
     "data": {
      "text/plain": [
       "(-13.0, -7.0)"
      ]
     },
     "execution_count": 10,
     "metadata": {},
     "output_type": "execute_result"
    },
    {
     "data": {
      "image/png": "[encoded data removed]",
      "text/plain": [
       "<Figure size 1080x576 with 1 Axes>"
      ]
     },
     "metadata": {
      "needs_background": "light"
     },
     "output_type": "display_data"
    }
   ],
   "source": [
    "net.eval()\n",
    "x_valid=ss1.transform(valid_data_target)\n",
    "x_valid = torch.from_numpy(x_valid).float()\n",
    "\n",
    "y_pred=net(x_total)\n",
    "y_pred=y_pred.data.numpy()\n",
    "y_pred=y_pred*y_std+y_mean\n",
    "\n",
    "y_pred_valid=net(x_valid)\n",
    "y_pred_valid=y_pred_valid.data.numpy()\n",
    "y_pred_valid=y_pred_valid*y_std+y_mean\n",
    "\n",
    "x_axis=data.iloc[:,0].values\n",
    "\n",
    "plt.figure(figsize=(15,8))\n",
    "plt.scatter(x_axis,y_pred,s=50,c=\"b\")\n",
    "plt.scatter(x_axis,y,s=50,c=\"g\")\n",
    "\n",
    "x_axis_valid=valid_data[:,0]\n",
    "plt.scatter(x_axis_valid,y_pred_valid,s=50,c=\"c\")\n",
    "plt.scatter(x_axis_valid,valid_data_y,s=50,c=\"r\")\n",
    "plt.grid()\n",
    "plt.xlim(0,2)\n",
    "plt.ylim(-13,-7)"
   ]
  },
  {
   "cell_type": "code",
   "execution_count": null,
   "metadata": {},
   "outputs": [],
   "source": []
  }
 ],
 "metadata": {
  "kernelspec": {
   "display_name": "Python 3.10.4 ('pythonProject')",
   "language": "python",
   "name": "python3"
  },
  "language_info": {
   "codemirror_mode": {
    "name": "ipython",
    "version": 3
   },
   "file_extension": ".py",
   "mimetype": "text/x-python",
   "name": "python",
   "nbconvert_exporter": "python",
   "pygments_lexer": "ipython3",
   "version": "3.10.4"
  },
  "orig_nbformat": 4,
  "vscode": {
   "interpreter": {
    "hash": "031490cb4fb8a925db20958c57cafe119126066026c78a34d7b5ac309ed8eb51"
   }
  }
 },
 "nbformat": 4,
 "nbformat_minor": 2
}
